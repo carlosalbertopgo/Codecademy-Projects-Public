{
 "cells": [
  {
   "cell_type": "markdown",
   "metadata": {},
   "source": [
    "# Portfolio Project: Biodiversity in National Parks"
   ]
  },
  {
   "cell_type": "markdown",
   "metadata": {},
   "source": [
    "## Introduction\n",
    "The objective of this project is to analyze the data from the National Parks Service about endangered species in different parks to find out if there are any patterns or themes related to the types of species that become endangered.\n",
    "\n",
    "As part of the investigation process, the project will clean up, analyze, and plot data as well as pose questions and seek to answer them in a meaningful way.\n",
    "\n",
    "The final project deliverable will be this report as well as a power point executive summary of the most important findings.\n",
    "### Data Sources\n",
    "2 csv format files, 'Observations.csv' and 'Species_info.csv', both provided by Codecademy.com."
   ]
  },
  {
   "cell_type": "markdown",
   "metadata": {},
   "source": [
    "## Scope of Work\n",
    "### Project Goals\n",
    "The National Park Service board is worried about the survival of the species that live within each park, to ensure the current biodiversity. In this context, they hired a data scientist to help them to understand characteristics about the species and their conservation status, as well as the amount of observations shown per specie. The board's expectation is to find an answer for the following questions:\n",
    "- What is the distribution of conservation status for species?\n",
    "- Are certain types of species more likely to be endangered?\n",
    "- Are the differences between species and their conservation status significant?\n",
    "- Which species were spotted the most at each park?\n",
    "\n",
    "### Project Setup\n",
    "In this section, all pertinent python packages packages will be loaded. The data required for analysis will be read and stored in 2 variables, then modified to give the columns of each dataframe a name easier to manage with code.\n",
    "\n",
    "### Data Exploration and Preparation\n",
    "Some basic operations will be performed in this section across the 2 datasets for obtaining summary statistics before moving forward with the main analysis and questions.\n",
    "\n",
    "### Analysis\n",
    "After exploring and cleaning the data, this project will perform some data arrangement and visualization techniques to interpret the data. Some statistical tests will also be performed to find out if the observed values are statistically significant."
   ]
  },
  {
   "cell_type": "markdown",
   "metadata": {},
   "source": [
    "## Project Setup"
   ]
  },
  {
   "cell_type": "code",
   "execution_count": 106,
   "metadata": {},
   "outputs": [
    {
     "name": "stdout",
     "output_type": "stream",
     "text": [
      "Index(['scientific_name', 'park_name', 'observations'], dtype='object')\n",
      "\n",
      "Index(['category', 'scientific_name', 'common_names', 'conservation_status'], dtype='object')\n"
     ]
    }
   ],
   "source": [
    "# Importing all required Python libraries:\n",
    "import pandas as pd\n",
    "from matplotlib import pyplot as plt\n",
    "import seaborn as sns\n",
    "import numpy as np\n",
    "\n",
    "# Reading csv files as pandas dataframe:\n",
    "obs = pd.read_csv('observations.csv')\n",
    "spec_info = pd.read_csv('species_info.csv')\n",
    "\n",
    "# Exploring both dataframes:\n",
    "print(obs.columns)\n",
    "print('')\n",
    "print(spec_info.columns)"
   ]
  },
  {
   "cell_type": "code",
   "execution_count": 107,
   "metadata": {},
   "outputs": [
    {
     "name": "stdout",
     "output_type": "stream",
     "text": [
      "                   sci_name                                 park  num_obs\n",
      "0        Vicia benghalensis  Great Smoky Mountains National Park       68\n",
      "1            Neovison vison  Great Smoky Mountains National Park       77\n",
      "2         Prunus subcordata               Yosemite National Park      138\n",
      "3      Abutilon theophrasti                  Bryce National Park       84\n",
      "4  Githopsis specularioides  Great Smoky Mountains National Park       85\n",
      "\n",
      "\n",
      "  category                       sci_name  \\\n",
      "0   Mammal  Clethrionomys gapperi gapperi   \n",
      "1   Mammal                      Bos bison   \n",
      "2   Mammal                     Bos taurus   \n",
      "3   Mammal                     Ovis aries   \n",
      "4   Mammal                 Cervus elaphus   \n",
      "\n",
      "                                               names status  \n",
      "0                           Gapper's Red-Backed Vole    NaN  \n",
      "1                              American Bison, Bison    NaN  \n",
      "2  Aurochs, Aurochs, Domestic Cattle (Feral), Dom...    NaN  \n",
      "3  Domestic Sheep, Mouflon, Red Sheep, Sheep (Feral)    NaN  \n",
      "4                                      Wapiti Or Elk    NaN  \n"
     ]
    }
   ],
   "source": [
    "# Giving columns shorter names:\n",
    "obs.rename(columns={'scientific_name': 'sci_name', 'park_name': 'park', 'observations': 'num_obs'}, inplace=True)\n",
    "spec_info.rename(columns={'scientific_name': 'sci_name', 'common_names': 'names', 'conservation_status': 'status'}, inplace=True)\n",
    "\n",
    "# Exploring first rows:\n",
    "print(obs.head())\n",
    "print('\\n')\n",
    "print(spec_info.head())\n",
    "\n",
    "# Filling blanks in 'status' (spec_info) dataframe:\n",
    "spec_info.status.fillna('No Intervention', inplace=True)"
   ]
  },
  {
   "cell_type": "markdown",
   "metadata": {},
   "source": [
    "## Data Exploration and Preparation\n",
    "\n",
    "### Observations Dataset"
   ]
  },
  {
   "cell_type": "code",
   "execution_count": 108,
   "metadata": {},
   "outputs": [
    {
     "name": "stdout",
     "output_type": "stream",
     "text": [
      "23296\n"
     ]
    }
   ],
   "source": [
    "# Number of entries in dataset:\n",
    "print(len(obs))"
   ]
  },
  {
   "cell_type": "code",
   "execution_count": 109,
   "metadata": {},
   "outputs": [
    {
     "name": "stdout",
     "output_type": "stream",
     "text": [
      "5541\n"
     ]
    }
   ],
   "source": [
    "# Number of species in dataframe by scientific name:\n",
    "print(obs.sci_name.nunique())"
   ]
  },
  {
   "cell_type": "code",
   "execution_count": 110,
   "metadata": {},
   "outputs": [
    {
     "name": "stdout",
     "output_type": "stream",
     "text": [
      "4\n",
      "['Great Smoky Mountains National Park' 'Yosemite National Park'\n",
      " 'Bryce National Park' 'Yellowstone National Park']\n"
     ]
    }
   ],
   "source": [
    "# Number of parks in dataframe:\n",
    "print(obs.park.nunique())\n",
    "\n",
    "# Names of parks in dataframe:\n",
    "print(obs.park.unique())"
   ]
  },
  {
   "cell_type": "code",
   "execution_count": 111,
   "metadata": {},
   "outputs": [
    {
     "name": "stdout",
     "output_type": "stream",
     "text": [
      "3314739\n"
     ]
    }
   ],
   "source": [
    "# Number of total observations:\n",
    "print(obs.num_obs.sum())"
   ]
  },
  {
   "cell_type": "code",
   "execution_count": 112,
   "metadata": {},
   "outputs": [
    {
     "name": "stdout",
     "output_type": "stream",
     "text": [
      "321\n"
     ]
    }
   ],
   "source": [
    "# Max number of observations per entry:\n",
    "print(obs.num_obs.max())"
   ]
  },
  {
   "cell_type": "code",
   "execution_count": 113,
   "metadata": {},
   "outputs": [
    {
     "name": "stdout",
     "output_type": "stream",
     "text": [
      "9\n"
     ]
    }
   ],
   "source": [
    "# Min number of observations per entry:\n",
    "print(obs.num_obs.min())"
   ]
  },
  {
   "cell_type": "markdown",
   "metadata": {},
   "source": [
    "### Species Information Dataset"
   ]
  },
  {
   "cell_type": "code",
   "execution_count": 114,
   "metadata": {},
   "outputs": [
    {
     "name": "stdout",
     "output_type": "stream",
     "text": [
      "5824\n"
     ]
    }
   ],
   "source": [
    "# Number of entries in dataset:\n",
    "print(len(spec_info))"
   ]
  },
  {
   "cell_type": "code",
   "execution_count": 115,
   "metadata": {},
   "outputs": [
    {
     "name": "stdout",
     "output_type": "stream",
     "text": [
      "7\n",
      "['Mammal' 'Bird' 'Reptile' 'Amphibian' 'Fish' 'Vascular Plant'\n",
      " 'Nonvascular Plant']\n"
     ]
    }
   ],
   "source": [
    "# Number of categories in dataframe:\n",
    "print(spec_info.category.nunique())\n",
    "\n",
    "# Names of categories in dataframe:\n",
    "print(spec_info.category.unique())"
   ]
  },
  {
   "cell_type": "code",
   "execution_count": 116,
   "metadata": {},
   "outputs": [
    {
     "name": "stdout",
     "output_type": "stream",
     "text": [
      "5541\n"
     ]
    }
   ],
   "source": [
    "# Number of species in dataframe by scientific name:\n",
    "print(spec_info.sci_name.nunique())"
   ]
  },
  {
   "cell_type": "code",
   "execution_count": 117,
   "metadata": {},
   "outputs": [
    {
     "name": "stdout",
     "output_type": "stream",
     "text": [
      "5504\n"
     ]
    }
   ],
   "source": [
    "# Number of species in dataframe by common name:\n",
    "print(spec_info.names.nunique())"
   ]
  },
  {
   "cell_type": "code",
   "execution_count": 118,
   "metadata": {},
   "outputs": [
    {
     "name": "stdout",
     "output_type": "stream",
     "text": [
      "5\n",
      "['No Intervention' 'Species of Concern' 'Endangered' 'Threatened'\n",
      " 'In Recovery']\n"
     ]
    }
   ],
   "source": [
    "# Number of types of status in dataframe:\n",
    "print(spec_info.status.nunique())\n",
    "\n",
    "# Names of types of status in dataframe:\n",
    "print(spec_info.status.unique())"
   ]
  },
  {
   "cell_type": "markdown",
   "metadata": {},
   "source": [
    "It can be seen that there are 5,824 entries in the dataframe, however only 5,541 unique species by scientific name.\n",
    "Therefore, to find and eliminate the duplicates:"
   ]
  },
  {
   "cell_type": "code",
   "execution_count": 119,
   "metadata": {},
   "outputs": [
    {
     "name": "stdout",
     "output_type": "stream",
     "text": [
      "     category                sci_name                                 names  \\\n",
      "3017   Mammal          Cervus elaphus                    Rocky Mountain Elk   \n",
      "3019   Mammal  Odocoileus virginianus  White-Tailed Deer, White-Tailed Deer   \n",
      "3020   Mammal             Canis lupus                       Gray Wolf, Wolf   \n",
      "3022   Mammal           Puma concolor           Cougar, Mountain Lion, Puma   \n",
      "3025   Mammal        Lutra canadensis                           River Otter   \n",
      "\n",
      "               status  \n",
      "3017  No Intervention  \n",
      "3019  No Intervention  \n",
      "3020      In Recovery  \n",
      "3022  No Intervention  \n",
      "3025  No Intervention  \n",
      "     category       sci_name                        names           status\n",
      "16     Mammal  Puma concolor      Panther (Mountain Lion)  No Intervention\n",
      "3022   Mammal  Puma concolor  Cougar, Mountain Lion, Puma  No Intervention\n",
      "4451   Mammal  Puma concolor                Mountain Lion  No Intervention\n"
     ]
    }
   ],
   "source": [
    "# Finding duplicates:\n",
    "duplicates = spec_info[spec_info.sci_name.duplicated()]\n",
    "print(duplicates.head())\n",
    "\n",
    "# Testing differences (with 'Puma concolor' as an example to find the differences):\n",
    "print(spec_info[spec_info.sci_name == 'Puma concolor'])"
   ]
  },
  {
   "cell_type": "markdown",
   "metadata": {},
   "source": [
    "It will be better to create a new dataset with unique scientific names, and to combine all possible categories, common names and conservation status."
   ]
  },
  {
   "cell_type": "code",
   "execution_count": 120,
   "metadata": {},
   "outputs": [
    {
     "name": "stdout",
     "output_type": "stream",
     "text": [
      "5541\n"
     ]
    }
   ],
   "source": [
    "# Creating new df without duplicates - this will lose some detail on 'names', which will not be used for analysis:\n",
    "new_spec_info = spec_info.drop_duplicates(subset='sci_name')\n",
    "print(len(new_spec_info))"
   ]
  },
  {
   "cell_type": "code",
   "execution_count": 121,
   "metadata": {},
   "outputs": [
    {
     "name": "stdout",
     "output_type": "stream",
     "text": [
      "                   sci_name                                 park  num_obs  \\\n",
      "0        Vicia benghalensis  Great Smoky Mountains National Park       68   \n",
      "1            Neovison vison  Great Smoky Mountains National Park       77   \n",
      "2         Prunus subcordata               Yosemite National Park      138   \n",
      "3      Abutilon theophrasti                  Bryce National Park       84   \n",
      "4  Githopsis specularioides  Great Smoky Mountains National Park       85   \n",
      "\n",
      "         category                               names           status  \n",
      "0  Vascular Plant  Purple Vetch, Reddish Tufted Vetch  No Intervention  \n",
      "1          Mammal                       American Mink  No Intervention  \n",
      "2  Vascular Plant                        Klamath Plum  No Intervention  \n",
      "3  Vascular Plant                          Velvetleaf  No Intervention  \n",
      "4  Vascular Plant                      Common Bluecup  No Intervention  \n"
     ]
    }
   ],
   "source": [
    "# Creating 1 unique df by merging 'obs' and 'spec_info':\n",
    "all_data = pd.merge(obs, new_spec_info, on='sci_name', how='left', indicator=False, validate='many_to_one')\n",
    "print(all_data.head())"
   ]
  },
  {
   "cell_type": "markdown",
   "metadata": {},
   "source": [
    "## Main Analysis"
   ]
  },
  {
   "cell_type": "markdown",
   "metadata": {},
   "source": [
    "### Question 1: What is the distribution of conservation status for the species?\n",
    "For answering this initial question, it is required to count the different species classified by category and see in which bucket it falls according to its conservation status."
   ]
  },
  {
   "cell_type": "code",
   "execution_count": 122,
   "metadata": {},
   "outputs": [
    {
     "name": "stdout",
     "output_type": "stream",
     "text": [
      "               status  sci_name\n",
      "2     No Intervention      5363\n",
      "1         In Recovery         3\n",
      "3  Species of Concern       151\n",
      "4          Threatened         9\n",
      "0          Endangered        15 \n",
      "\n",
      "                status           category  sci_name\n",
      "5          In Recovery               Bird         3\n",
      "8   Species of Concern               Fish         4\n",
      "12  Species of Concern     Vascular Plant        43\n",
      "11  Species of Concern            Reptile         5\n",
      "6   Species of Concern          Amphibian         4\n",
      "7   Species of Concern               Bird        68\n",
      "10  Species of Concern  Nonvascular Plant         5\n",
      "9   Species of Concern             Mammal        22\n",
      "14          Threatened               Fish         3\n",
      "13          Threatened          Amphibian         2\n",
      "16          Threatened     Vascular Plant         2\n",
      "15          Threatened             Mammal         2\n",
      "4           Endangered     Vascular Plant         1\n",
      "3           Endangered             Mammal         6\n",
      "2           Endangered               Fish         3\n",
      "1           Endangered               Bird         4\n",
      "0           Endangered          Amphibian         1\n"
     ]
    }
   ],
   "source": [
    "# Creating tables from 'all_data', grouping species counts by 'status' and 'category':\n",
    "species_status_category = new_spec_info.groupby(['status', 'category']).sci_name.count().reset_index()\n",
    "species_status = new_spec_info.groupby('status').sci_name.count().reset_index()\n",
    "\n",
    "# Sorting tables according to severity of 'status':\n",
    "sorter = ['No Intervention', 'In Recovery', 'Species of Concern', 'Threatened', 'Endangered']\n",
    "species_status_category.status = pd.Categorical(species_status_category.status, sorter, ordered=True)\n",
    "species_status_category.sort_values('status', ascending=True, inplace=True)\n",
    "species_status.status = pd.Categorical(species_status.status, sorter, ordered=True)\n",
    "species_status.sort_values('status', ascending=True, inplace=True)\n",
    "\n",
    "# Table without 'No Intervention' status:\n",
    "species_status_cat_noNI = new_spec_info[new_spec_info.status != 'No Intervention'].groupby(['status', 'category']).sci_name.count().reset_index()\n",
    "sorter1 = ['In Recovery', 'Species of Concern', 'Threatened', 'Endangered']\n",
    "species_status_cat_noNI.status = pd.Categorical(species_status_cat_noNI.status, sorter1, ordered=True)\n",
    "species_status_cat_noNI.sort_values('status', ascending=True, inplace=True)\n",
    "\n",
    "print(species_status, '\\n')\n",
    "print(species_status_cat_noNI)"
   ]
  },
  {
   "cell_type": "code",
   "execution_count": 123,
   "metadata": {},
   "outputs": [
    {
     "data": {
      "text/html": [
       "<div>\n",
       "<style scoped>\n",
       "    .dataframe tbody tr th:only-of-type {\n",
       "        vertical-align: middle;\n",
       "    }\n",
       "\n",
       "    .dataframe tbody tr th {\n",
       "        vertical-align: top;\n",
       "    }\n",
       "\n",
       "    .dataframe thead th {\n",
       "        text-align: right;\n",
       "    }\n",
       "</style>\n",
       "<table border=\"1\" class=\"dataframe\">\n",
       "  <thead>\n",
       "    <tr style=\"text-align: right;\">\n",
       "      <th>category</th>\n",
       "      <th>Amphibian</th>\n",
       "      <th>Bird</th>\n",
       "      <th>Fish</th>\n",
       "      <th>Mammal</th>\n",
       "      <th>Nonvascular Plant</th>\n",
       "      <th>Reptile</th>\n",
       "      <th>Vascular Plant</th>\n",
       "    </tr>\n",
       "    <tr>\n",
       "      <th>status</th>\n",
       "      <th></th>\n",
       "      <th></th>\n",
       "      <th></th>\n",
       "      <th></th>\n",
       "      <th></th>\n",
       "      <th></th>\n",
       "      <th></th>\n",
       "    </tr>\n",
       "  </thead>\n",
       "  <tbody>\n",
       "    <tr>\n",
       "      <th>In Recovery</th>\n",
       "      <td>NaN</td>\n",
       "      <td>3.0</td>\n",
       "      <td>NaN</td>\n",
       "      <td>NaN</td>\n",
       "      <td>NaN</td>\n",
       "      <td>NaN</td>\n",
       "      <td>NaN</td>\n",
       "    </tr>\n",
       "    <tr>\n",
       "      <th>Species of Concern</th>\n",
       "      <td>4.0</td>\n",
       "      <td>68.0</td>\n",
       "      <td>4.0</td>\n",
       "      <td>22.0</td>\n",
       "      <td>5.0</td>\n",
       "      <td>5.0</td>\n",
       "      <td>43.0</td>\n",
       "    </tr>\n",
       "    <tr>\n",
       "      <th>Threatened</th>\n",
       "      <td>2.0</td>\n",
       "      <td>NaN</td>\n",
       "      <td>3.0</td>\n",
       "      <td>2.0</td>\n",
       "      <td>NaN</td>\n",
       "      <td>NaN</td>\n",
       "      <td>2.0</td>\n",
       "    </tr>\n",
       "    <tr>\n",
       "      <th>Endangered</th>\n",
       "      <td>1.0</td>\n",
       "      <td>4.0</td>\n",
       "      <td>3.0</td>\n",
       "      <td>6.0</td>\n",
       "      <td>NaN</td>\n",
       "      <td>NaN</td>\n",
       "      <td>1.0</td>\n",
       "    </tr>\n",
       "  </tbody>\n",
       "</table>\n",
       "</div>"
      ],
      "text/plain": [
       "category            Amphibian  Bird  Fish  Mammal  Nonvascular Plant  Reptile  \\\n",
       "status                                                                          \n",
       "In Recovery               NaN   3.0   NaN     NaN                NaN      NaN   \n",
       "Species of Concern        4.0  68.0   4.0    22.0                5.0      5.0   \n",
       "Threatened                2.0   NaN   3.0     2.0                NaN      NaN   \n",
       "Endangered                1.0   4.0   3.0     6.0                NaN      NaN   \n",
       "\n",
       "category            Vascular Plant  \n",
       "status                              \n",
       "In Recovery                    NaN  \n",
       "Species of Concern            43.0  \n",
       "Threatened                     2.0  \n",
       "Endangered                     1.0  "
      ]
     },
     "execution_count": 123,
     "metadata": {},
     "output_type": "execute_result"
    }
   ],
   "source": [
    "# Creating pivot table for obtaining exact distribution of number of species by category by conservation status:\n",
    "species_status_cat_NI_pivot = species_status_cat_noNI.pivot(columns='category', index='status', values='sci_name')\n",
    "species_status_cat_NI_pivot"
   ]
  },
  {
   "cell_type": "code",
   "execution_count": 124,
   "metadata": {},
   "outputs": [
    {
     "data": {
      "image/png": "[encoded data removed]",
      "text/plain": [
       "<Figure size 1440x576 with 2 Axes>"
      ]
     },
     "metadata": {},
     "output_type": "display_data"
    }
   ],
   "source": [
    "# Creating bar plot for species count classified by conservation status and category:\n",
    "sns.set_style('white')\n",
    "plt.figure(figsize=(20,8))\n",
    "plt.rc('xtick', labelsize=13) \n",
    "plt.rc('ytick', labelsize=13)\n",
    "\n",
    "ax1 = plt.subplot(1,2,1)\n",
    "colors = ['darkgreen', 'gold', 'lightsalmon', 'indianred', 'red']\n",
    "ax1 = sns.barplot(data=species_status, x='status', y='sci_name', palette=colors)\n",
    "ax1.set(ylim=(0,200))\n",
    "ax1.set_title('Species by conservation status', fontsize=22)\n",
    "ax1.set_xlabel('Conservation status', fontsize=20)\n",
    "ax1.set_ylabel('Number of species', fontsize=20)\n",
    "\n",
    "ax2 = plt.subplot(1,2,2)\n",
    "ax2 = sns.barplot(data=species_status_cat_noNI, x='status', y='sci_name', hue='category', palette='Set2')\n",
    "ax2.legend(fontsize=13, loc='upper right')\n",
    "ax2.set_title('Species by status and family w/o \\'No Intervention\\'', fontsize=22)\n",
    "ax2.set_xlabel('Conservation status', fontsize=20)\n",
    "ax2.set_ylabel('Number of species', fontsize=20)\n",
    "\n",
    "plt.savefig(\"Species_by_Conservation_Status.png\")\n",
    "plt.show()"
   ]
  },
  {
   "cell_type": "markdown",
   "metadata": {},
   "source": [
    "In the charts and tables above, we can see that there are 178 species 'at some degree of danger' (excluding 'No Intervention'). In this subset, 151 are 'Species of Concern' (85%), which luckily is the least critical group of species that are in some sort of danger of dissapearing. The endangered species, the most critical group, represent 15 species in total, or 8% of the total species 'at some degree of danger'.\n",
    "\n",
    "Regarding categories or families, the birds are the largest group (75 species in total), most of them being 'Species of Concern' (68 in total, or 91% of the whole birds category). The second largest group are the vascular plants (46 species in total), most of them also in the 'Species of Concern' group (43 out of 46 in total, or 93%).\n",
    "\n",
    "For the mammals (30 species 'at some degree of danger’), 8 species are ‘Threatened’ or ‘Endangered’ (27% of this subset), making it the family that should concern the parks the most."
   ]
  },
  {
   "cell_type": "markdown",
   "metadata": {},
   "source": [
    "### Question 2: Are certain types of species more likely to be endangered?\n",
    "One way to answer this question is to classify the families or categories to find the number of species within each family that are currently protected (because they fall into one of these buckets: 'In recovery', 'Species of Concern', 'Threatened' or 'Endangered'), and the ones not protected ('No Intervention'). The species in the second group are the ones with a certain level of risk because currently there is no protection program established for them (the parks assume that this protection is currently not needed)."
   ]
  },
  {
   "cell_type": "code",
   "execution_count": 125,
   "metadata": {},
   "outputs": [
    {
     "name": "stdout",
     "output_type": "stream",
     "text": [
      "            Category  Not protected  Protected  Perc protected\n",
      "0          Amphibian             72          7            10.0\n",
      "1               Bird            413         75            18.0\n",
      "2               Fish            115         10             9.0\n",
      "3             Mammal            146         30            21.0\n",
      "4  Nonvascular Plant            328          5             2.0\n",
      "5            Reptile             73          5             7.0\n",
      "6     Vascular Plant           4216         46             1.0\n"
     ]
    }
   ],
   "source": [
    "# Creating new table from 'species_status_category' with 2 columns 'Protected', and 'Not protected'\n",
    "species_status_category['protection'] = species_status_category.status != 'No Intervention'\n",
    "species_status_protected = species_status_category.groupby(['protection', 'category']).sci_name.sum().reset_index()\n",
    "species_status_protected_pivot = species_status_protected.pivot(columns='protection', index='category', values='sci_name').reset_index()\n",
    "species_status_protected_pivot.columns = ['Category', 'Not protected', 'Protected']\n",
    "species_status_protected_pivot['Perc protected'] = round(species_status_protected_pivot['Protected']/species_status_protected_pivot['Not protected']*100,0)\n",
    "print(species_status_protected_pivot)"
   ]
  },
  {
   "cell_type": "markdown",
   "metadata": {},
   "source": [
    "From the table, it is clear that the family which has the largest amount of species under protection are the vascular plants (46 species), yet the mammals and the birds are the family with the biggest percentage of species currently protected (21% and 18% respectively).\n",
    "\n",
    "The plants (vascular and non vascular) have less than 2% of the total species under some protection program, yet since they are not animals they appear to be less affected by external effects in their surroundings."
   ]
  },
  {
   "cell_type": "markdown",
   "metadata": {},
   "source": [
    "### Question 3: Are the differences between species and their conservation status significant?\n",
    "It will be necessary to assess the statistical significance of the relationship between the category/family and the protection variable to know if there is a significant association between the variables. For this, the chi-square test will be used (since this test is between 2 categorical variables, one of them binary)."
   ]
  },
  {
   "cell_type": "code",
   "execution_count": 126,
   "metadata": {},
   "outputs": [
    {
     "name": "stdout",
     "output_type": "stream",
     "text": [
      "0.6875948096661336\n"
     ]
    }
   ],
   "source": [
    "# Loading the required statistics package:\n",
    "from scipy.stats import chi2_contingency\n",
    "\n",
    "# Testing the association between 'Protection' and 'Category' for 'Mammal' and 'Bird':\n",
    "freq_mammal_bird = [[146, 30], [413, 75]]\n",
    "chi2, pval1, dof, expected = chi2_contingency(freq_mammal_bird)\n",
    "print(pval1)"
   ]
  },
  {
   "cell_type": "markdown",
   "metadata": {},
   "source": [
    "Since the p-val for this initial test is above 0.05, it can be concluded that for mammals and birds, there is no significant association between the category and the level of 'protection' that the families have. Now, the test will be done 2 more times between mammals and fishes, and mammals and reptiles."
   ]
  },
  {
   "cell_type": "code",
   "execution_count": 127,
   "metadata": {},
   "outputs": [
    {
     "name": "stdout",
     "output_type": "stream",
     "text": [
      "0.03521990485242023\n"
     ]
    }
   ],
   "source": [
    "# Testing the association between 'Protection' and 'Category' for 'Mammal' and 'Fish':\n",
    "freq_mammal_fish = [[146, 30], [115, 10]]\n",
    "chi2, pval2, dof, expected = chi2_contingency(freq_mammal_fish)\n",
    "print(pval2)"
   ]
  },
  {
   "cell_type": "markdown",
   "metadata": {},
   "source": [
    "In this case, the p-val was below 0.05, therefore it can be inferred that there is significant association between the category and the level of protection. Mammals indeed are shown to require significant level of protection compared to fishes."
   ]
  },
  {
   "cell_type": "code",
   "execution_count": 128,
   "metadata": {},
   "outputs": [
    {
     "name": "stdout",
     "output_type": "stream",
     "text": [
      "0.03835559022969898\n"
     ]
    }
   ],
   "source": [
    "# Testing the association between 'Protection' and 'Category' for 'Mammal' and 'Reptile':\n",
    "freq_mammal_reptile = [[146, 30], [73, 5]]\n",
    "chi2, pval3, dof, expected = chi2_contingency(freq_mammal_reptile)\n",
    "print(pval3)"
   ]
  },
  {
   "cell_type": "markdown",
   "metadata": {},
   "source": [
    "Once again, the p-val result was below 0.05, therefore it can be inferred that there is significant association between the category and the level of protection for mammals when compared to reptiles. Below the other tests can be found for the remainder of all the possible combinations between families (15 in total). A function will be created for this purpose:"
   ]
  },
  {
   "cell_type": "code",
   "execution_count": 129,
   "metadata": {},
   "outputs": [],
   "source": [
    "# Creating function for testing chi2 for all combinations:\n",
    "def chi2result(cat1, cat2):\n",
    "    fam1 = species_status_protected_pivot[species_status_protected_pivot.Category == cat1]\n",
    "    fam2 = species_status_protected_pivot[species_status_protected_pivot.Category == cat2]\n",
    "    a = fam1['Not protected'].values[0]\n",
    "    b = fam1['Protected'].values[0]\n",
    "    x = fam2['Not protected'].values[0]\n",
    "    y = fam2['Protected'].values[0]\n",
    "    freq = [[a,b],[x,y]]\n",
    "    chi2, pvalue, dof, expected = chi2_contingency(freq)\n",
    "    print('The pvalue between category and \\'protection\\' for ' + cat1 + ' and '+ cat2 + ' is: ' + str(round(pvalue,4)))"
   ]
  },
  {
   "cell_type": "code",
   "execution_count": 130,
   "metadata": {},
   "outputs": [
    {
     "name": "stdout",
     "output_type": "stream",
     "text": [
      "The pvalue between category and 'protection' for Amphibian and Bird is: 0.1759\n",
      "The pvalue between category and 'protection' for Amphibian and Fish is: 0.9654\n",
      "The pvalue between category and 'protection' for Amphibian and Mammal is: 0.1276\n",
      "The pvalue between category and 'protection' for Amphibian and Nonvascular Plant is: 0.0018\n",
      "The pvalue between category and 'protection' for Amphibian and Reptile is: 0.7815\n",
      "The pvalue between category and 'protection' for Amphibian and Vascular Plant is: 0.0\n",
      "The pvalue between category and 'protection' for Bird and Fish is: 0.0475\n",
      "The pvalue between category and 'protection' for Bird and Mammal is: 0.6876\n",
      "The pvalue between category and 'protection' for Bird and Nonvascular Plant is: 0.0\n",
      "The pvalue between category and 'protection' for Bird and Reptile is: 0.0531\n",
      "The pvalue between category and 'protection' for Bird and Vascular Plant is: 0.0\n",
      "The pvalue between category and 'protection' for Fish and Mammal is: 0.0352\n",
      "The pvalue between category and 'protection' for Fish and Nonvascular Plant is: 0.0014\n",
      "The pvalue between category and 'protection' for Fish and Reptile is: 0.8844\n",
      "The pvalue between category and 'protection' for Fish and Vascular Plant is: 0.0\n",
      "The pvalue between category and 'protection' for Mammal and Nonvascular Plant is: 0.0\n",
      "The pvalue between category and 'protection' for Mammal and Reptile is: 0.0384\n",
      "The pvalue between category and 'protection' for Mammal and Vascular Plant is: 0.0\n",
      "The pvalue between category and 'protection' for Nonvascular Plant and Reptile is: 0.0336\n",
      "The pvalue between category and 'protection' for Nonvascular Plant and Vascular Plant is: 0.6623\n",
      "The pvalue between category and 'protection' for Reptile and Vascular Plant is: 0.0001\n"
     ]
    }
   ],
   "source": [
    "# Testing all combinations:\n",
    "chi2result('Amphibian', 'Bird')\n",
    "chi2result('Amphibian', 'Fish')\n",
    "chi2result('Amphibian', 'Mammal')\n",
    "chi2result('Amphibian', 'Nonvascular Plant')\n",
    "chi2result('Amphibian', 'Reptile')\n",
    "chi2result('Amphibian', 'Vascular Plant')\n",
    "chi2result('Bird', 'Fish')\n",
    "chi2result('Bird', 'Mammal')\n",
    "chi2result('Bird', 'Nonvascular Plant')\n",
    "chi2result('Bird', 'Reptile')\n",
    "chi2result('Bird', 'Vascular Plant')\n",
    "chi2result('Fish', 'Mammal')\n",
    "chi2result('Fish', 'Nonvascular Plant')\n",
    "chi2result('Fish', 'Reptile')\n",
    "chi2result('Fish', 'Vascular Plant')\n",
    "chi2result('Mammal', 'Nonvascular Plant')\n",
    "chi2result('Mammal', 'Reptile')\n",
    "chi2result('Mammal', 'Vascular Plant')\n",
    "chi2result('Nonvascular Plant', 'Reptile')\n",
    "chi2result('Nonvascular Plant', 'Vascular Plant')\n",
    "chi2result('Reptile', 'Vascular Plant')"
   ]
  },
  {
   "cell_type": "markdown",
   "metadata": {},
   "source": [
    "### Question 4: Which species were spotted the most at each park?\n",
    "This question will be answered in 2 parts. First, an analysis of the amount of observations per park and family/category will be performed to have a visualization of the predominant family per park (it would be too complex to visualize a graph with the breakdown of observations per park per specie). However, a list of the most spotted species per park will also be made."
   ]
  },
  {
   "cell_type": "code",
   "execution_count": 131,
   "metadata": {},
   "outputs": [
    {
     "data": {
      "text/html": [
       "<div>\n",
       "<style scoped>\n",
       "    .dataframe tbody tr th:only-of-type {\n",
       "        vertical-align: middle;\n",
       "    }\n",
       "\n",
       "    .dataframe tbody tr th {\n",
       "        vertical-align: top;\n",
       "    }\n",
       "\n",
       "    .dataframe thead th {\n",
       "        text-align: right;\n",
       "    }\n",
       "</style>\n",
       "<table border=\"1\" class=\"dataframe\">\n",
       "  <thead>\n",
       "    <tr style=\"text-align: right;\">\n",
       "      <th>category</th>\n",
       "      <th>park</th>\n",
       "      <th>Amphibian</th>\n",
       "      <th>Bird</th>\n",
       "      <th>Fish</th>\n",
       "      <th>Mammal</th>\n",
       "      <th>Nonvascular Plant</th>\n",
       "      <th>Reptile</th>\n",
       "      <th>Vascular Plant</th>\n",
       "    </tr>\n",
       "  </thead>\n",
       "  <tbody>\n",
       "    <tr>\n",
       "      <th>0</th>\n",
       "      <td>Bryce National Park</td>\n",
       "      <td>7380</td>\n",
       "      <td>51647</td>\n",
       "      <td>12423</td>\n",
       "      <td>20550</td>\n",
       "      <td>32992</td>\n",
       "      <td>7950</td>\n",
       "      <td>443083</td>\n",
       "    </tr>\n",
       "    <tr>\n",
       "      <th>1</th>\n",
       "      <td>Great Smoky Mountains National Park</td>\n",
       "      <td>5707</td>\n",
       "      <td>37728</td>\n",
       "      <td>9206</td>\n",
       "      <td>15012</td>\n",
       "      <td>24857</td>\n",
       "      <td>5691</td>\n",
       "      <td>333619</td>\n",
       "    </tr>\n",
       "    <tr>\n",
       "      <th>2</th>\n",
       "      <td>Yellowstone National Park</td>\n",
       "      <td>19440</td>\n",
       "      <td>127251</td>\n",
       "      <td>30574</td>\n",
       "      <td>50795</td>\n",
       "      <td>83021</td>\n",
       "      <td>19554</td>\n",
       "      <td>1112927</td>\n",
       "    </tr>\n",
       "    <tr>\n",
       "      <th>3</th>\n",
       "      <td>Yosemite National Park</td>\n",
       "      <td>11444</td>\n",
       "      <td>76207</td>\n",
       "      <td>18615</td>\n",
       "      <td>30339</td>\n",
       "      <td>49783</td>\n",
       "      <td>11483</td>\n",
       "      <td>665461</td>\n",
       "    </tr>\n",
       "  </tbody>\n",
       "</table>\n",
       "</div>"
      ],
      "text/plain": [
       "category                                 park  Amphibian    Bird   Fish  \\\n",
       "0                         Bryce National Park       7380   51647  12423   \n",
       "1         Great Smoky Mountains National Park       5707   37728   9206   \n",
       "2                   Yellowstone National Park      19440  127251  30574   \n",
       "3                      Yosemite National Park      11444   76207  18615   \n",
       "\n",
       "category  Mammal  Nonvascular Plant  Reptile  Vascular Plant  \n",
       "0          20550              32992     7950          443083  \n",
       "1          15012              24857     5691          333619  \n",
       "2          50795              83021    19554         1112927  \n",
       "3          30339              49783    11483          665461  "
      ]
     },
     "execution_count": 131,
     "metadata": {},
     "output_type": "execute_result"
    }
   ],
   "source": [
    "# Creating table for visualization of observations per family and park:\n",
    "obs_park_category = all_data.groupby(['park', 'category']).num_obs.sum().reset_index()\n",
    "obs_park_category_pivot = obs_park_category.pivot(columns='category', index='park', values='num_obs').reset_index()\n",
    "obs_park_category_pivot"
   ]
  },
  {
   "cell_type": "code",
   "execution_count": 132,
   "metadata": {},
   "outputs": [
    {
     "data": {
      "image/png": "[encoded data removed]",
      "text/plain": [
       "<Figure size 1080x576 with 1 Axes>"
      ]
     },
     "metadata": {},
     "output_type": "display_data"
    }
   ],
   "source": [
    "# Creating stacker bar chart:\n",
    "sns.set_style('white')\n",
    "plt.rc('xtick', labelsize=13) \n",
    "plt.rc('ytick', labelsize=13)\n",
    "\n",
    "colors = ['#eeac99', '#d6d4e0', '#c83349', '#5b9aa0', '#e06377', '#b8a9c9', '#622569']\n",
    "ax = obs_park_category_pivot.plot(kind = 'bar', figsize=(15,8), stacked=True, color=colors)\n",
    "plt.xticks(rotation=0)\n",
    "ax.set_xticklabels(['Bryce National Park', 'Great Smoky Mount. National Park', 'Yellowstone National Park', 'Yosemite National Park'])\n",
    "ax.set_xlabel(\"Park\", fontsize=15)\n",
    "ax.set_ylabel(\"Number of observations\", fontsize=15)\n",
    "ax.set_title('Distribution of observations by park and family', fontsize=20)\n",
    "plt.legend(fontsize=13)\n",
    "\n",
    "plt.savefig(\"Categories_by_observations.png\")\n",
    "plt.show()"
   ]
  },
  {
   "cell_type": "markdown",
   "metadata": {},
   "source": [
    "It can be observed that of all parks, Yellowstone is the one with the largest amount of observations by far (1,443,562). The family that has the largest amount of observations (consistently across all 4 parks) are the vascular plants, followed by birds and non vascular plants.\n",
    "Now it is time to see which are the Top 10 observed species in each park."
   ]
  },
  {
   "cell_type": "code",
   "execution_count": 133,
   "metadata": {},
   "outputs": [],
   "source": [
    "# Using the 'obs' database for generating 4 new tables, one for each park:\n",
    "bryce_species = obs[obs.park == 'Bryce National Park']\n",
    "gsm_species = obs[obs.park == 'Great Smoky Mountains National Park']\n",
    "yellowstone_species = obs[obs.park == 'Yellowstone National Park']\n",
    "yosemite_species = obs[obs.park == 'Yosemite National Park']\n",
    "\n",
    "# Aggregating tables for eliminated duplicates:\n",
    "bryce_species = bryce_species.groupby(['sci_name', 'park']).num_obs.sum().reset_index()\n",
    "gsm_species = gsm_species.groupby(['sci_name', 'park']).num_obs.sum().reset_index()\n",
    "yellowstone_species = yellowstone_species.groupby(['sci_name', 'park']).num_obs.sum().reset_index()\n",
    "yosemite_species = yosemite_species.groupby(['sci_name', 'park']).num_obs.sum().reset_index()\n",
    "\n",
    "# Sorting tables by number of observations:\n",
    "bryce_species.sort_values(by='num_obs', ascending=False, inplace=True)\n",
    "gsm_species.sort_values(by='num_obs', ascending=False, inplace=True)\n",
    "yellowstone_species.sort_values(by='num_obs', ascending=False, inplace=True)\n",
    "yosemite_species.sort_values(by='num_obs', ascending=False, inplace=True)\n",
    "\n",
    "# Adding common names from 'new_spec_info'\n",
    "bryce_species_name = bryce_species.merge(new_spec_info[['sci_name','names', 'category']],how='left',on='sci_name')\n",
    "gsm_species_name = gsm_species.merge(new_spec_info[['sci_name','names', 'category']],how='left',on='sci_name')\n",
    "yellowstone_species_name = yellowstone_species.merge(new_spec_info[['sci_name','names', 'category']],how='left',on='sci_name')\n",
    "yosemite_species_name = yosemite_species.merge(new_spec_info[['sci_name','names', 'category']],how='left',on='sci_name')"
   ]
  },
  {
   "cell_type": "code",
   "execution_count": 134,
   "metadata": {},
   "outputs": [
    {
     "data": {
      "text/html": [
       "<div>\n",
       "<style scoped>\n",
       "    .dataframe tbody tr th:only-of-type {\n",
       "        vertical-align: middle;\n",
       "    }\n",
       "\n",
       "    .dataframe tbody tr th {\n",
       "        vertical-align: top;\n",
       "    }\n",
       "\n",
       "    .dataframe thead th {\n",
       "        text-align: right;\n",
       "    }\n",
       "</style>\n",
       "<table border=\"1\" class=\"dataframe\">\n",
       "  <thead>\n",
       "    <tr style=\"text-align: right;\">\n",
       "      <th></th>\n",
       "      <th>sci_name</th>\n",
       "      <th>park</th>\n",
       "      <th>num_obs</th>\n",
       "      <th>names</th>\n",
       "      <th>category</th>\n",
       "    </tr>\n",
       "  </thead>\n",
       "  <tbody>\n",
       "    <tr>\n",
       "      <th>0</th>\n",
       "      <td>Columba livia</td>\n",
       "      <td>Bryce National Park</td>\n",
       "      <td>339</td>\n",
       "      <td>Rock Dove</td>\n",
       "      <td>Bird</td>\n",
       "    </tr>\n",
       "    <tr>\n",
       "      <th>1</th>\n",
       "      <td>Puma concolor</td>\n",
       "      <td>Bryce National Park</td>\n",
       "      <td>311</td>\n",
       "      <td>Panther (Mountain Lion)</td>\n",
       "      <td>Mammal</td>\n",
       "    </tr>\n",
       "    <tr>\n",
       "      <th>2</th>\n",
       "      <td>Avena sativa</td>\n",
       "      <td>Bryce National Park</td>\n",
       "      <td>303</td>\n",
       "      <td>Cultivated Oat, Oats</td>\n",
       "      <td>Vascular Plant</td>\n",
       "    </tr>\n",
       "    <tr>\n",
       "      <th>3</th>\n",
       "      <td>Streptopelia decaocto</td>\n",
       "      <td>Bryce National Park</td>\n",
       "      <td>301</td>\n",
       "      <td>Eurasian Collared-Dove</td>\n",
       "      <td>Bird</td>\n",
       "    </tr>\n",
       "    <tr>\n",
       "      <th>4</th>\n",
       "      <td>Myotis lucifugus</td>\n",
       "      <td>Bryce National Park</td>\n",
       "      <td>298</td>\n",
       "      <td>Little Brown Bat, Little Brown Myotis</td>\n",
       "      <td>Mammal</td>\n",
       "    </tr>\n",
       "    <tr>\n",
       "      <th>5</th>\n",
       "      <td>Holcus lanatus</td>\n",
       "      <td>Bryce National Park</td>\n",
       "      <td>296</td>\n",
       "      <td>Common Velvet Grass, Velvetgrass</td>\n",
       "      <td>Vascular Plant</td>\n",
       "    </tr>\n",
       "    <tr>\n",
       "      <th>6</th>\n",
       "      <td>Hypochaeris radicata</td>\n",
       "      <td>Bryce National Park</td>\n",
       "      <td>294</td>\n",
       "      <td>Cat's Ear, Spotted Cat's-Ear</td>\n",
       "      <td>Vascular Plant</td>\n",
       "    </tr>\n",
       "    <tr>\n",
       "      <th>7</th>\n",
       "      <td>Castor canadensis</td>\n",
       "      <td>Bryce National Park</td>\n",
       "      <td>278</td>\n",
       "      <td>American Beaver, Beaver</td>\n",
       "      <td>Mammal</td>\n",
       "    </tr>\n",
       "    <tr>\n",
       "      <th>8</th>\n",
       "      <td>Viola arvensis</td>\n",
       "      <td>Bryce National Park</td>\n",
       "      <td>277</td>\n",
       "      <td>Field Pansy</td>\n",
       "      <td>Vascular Plant</td>\n",
       "    </tr>\n",
       "    <tr>\n",
       "      <th>9</th>\n",
       "      <td>Amaranthus albus</td>\n",
       "      <td>Bryce National Park</td>\n",
       "      <td>268</td>\n",
       "      <td>White Amaranthus, White Pigweed</td>\n",
       "      <td>Vascular Plant</td>\n",
       "    </tr>\n",
       "  </tbody>\n",
       "</table>\n",
       "</div>"
      ],
      "text/plain": [
       "                sci_name                 park  num_obs  \\\n",
       "0          Columba livia  Bryce National Park      339   \n",
       "1          Puma concolor  Bryce National Park      311   \n",
       "2           Avena sativa  Bryce National Park      303   \n",
       "3  Streptopelia decaocto  Bryce National Park      301   \n",
       "4       Myotis lucifugus  Bryce National Park      298   \n",
       "5         Holcus lanatus  Bryce National Park      296   \n",
       "6   Hypochaeris radicata  Bryce National Park      294   \n",
       "7      Castor canadensis  Bryce National Park      278   \n",
       "8         Viola arvensis  Bryce National Park      277   \n",
       "9       Amaranthus albus  Bryce National Park      268   \n",
       "\n",
       "                                   names        category  \n",
       "0                              Rock Dove            Bird  \n",
       "1                Panther (Mountain Lion)          Mammal  \n",
       "2                   Cultivated Oat, Oats  Vascular Plant  \n",
       "3                 Eurasian Collared-Dove            Bird  \n",
       "4  Little Brown Bat, Little Brown Myotis          Mammal  \n",
       "5       Common Velvet Grass, Velvetgrass  Vascular Plant  \n",
       "6           Cat's Ear, Spotted Cat's-Ear  Vascular Plant  \n",
       "7                American Beaver, Beaver          Mammal  \n",
       "8                            Field Pansy  Vascular Plant  \n",
       "9        White Amaranthus, White Pigweed  Vascular Plant  "
      ]
     },
     "execution_count": 134,
     "metadata": {},
     "output_type": "execute_result"
    }
   ],
   "source": [
    "bryce_species_name.head(10)"
   ]
  },
  {
   "cell_type": "code",
   "execution_count": null,
   "metadata": {},
   "outputs": [],
   "source": []
  },
  {
   "cell_type": "code",
   "execution_count": 135,
   "metadata": {},
   "outputs": [
    {
     "data": {
      "text/html": [
       "<div>\n",
       "<style scoped>\n",
       "    .dataframe tbody tr th:only-of-type {\n",
       "        vertical-align: middle;\n",
       "    }\n",
       "\n",
       "    .dataframe tbody tr th {\n",
       "        vertical-align: top;\n",
       "    }\n",
       "\n",
       "    .dataframe thead th {\n",
       "        text-align: right;\n",
       "    }\n",
       "</style>\n",
       "<table border=\"1\" class=\"dataframe\">\n",
       "  <thead>\n",
       "    <tr style=\"text-align: right;\">\n",
       "      <th></th>\n",
       "      <th>sci_name</th>\n",
       "      <th>park</th>\n",
       "      <th>num_obs</th>\n",
       "      <th>names</th>\n",
       "      <th>category</th>\n",
       "    </tr>\n",
       "  </thead>\n",
       "  <tbody>\n",
       "    <tr>\n",
       "      <th>0</th>\n",
       "      <td>Streptopelia decaocto</td>\n",
       "      <td>Great Smoky Mountains National Park</td>\n",
       "      <td>256</td>\n",
       "      <td>Eurasian Collared-Dove</td>\n",
       "      <td>Bird</td>\n",
       "    </tr>\n",
       "    <tr>\n",
       "      <th>1</th>\n",
       "      <td>Procyon lotor</td>\n",
       "      <td>Great Smoky Mountains National Park</td>\n",
       "      <td>247</td>\n",
       "      <td>Common Raccoon, Raccoon</td>\n",
       "      <td>Mammal</td>\n",
       "    </tr>\n",
       "    <tr>\n",
       "      <th>2</th>\n",
       "      <td>Castor canadensis</td>\n",
       "      <td>Great Smoky Mountains National Park</td>\n",
       "      <td>243</td>\n",
       "      <td>American Beaver, Beaver</td>\n",
       "      <td>Mammal</td>\n",
       "    </tr>\n",
       "    <tr>\n",
       "      <th>3</th>\n",
       "      <td>Puma concolor</td>\n",
       "      <td>Great Smoky Mountains National Park</td>\n",
       "      <td>239</td>\n",
       "      <td>Panther (Mountain Lion)</td>\n",
       "      <td>Mammal</td>\n",
       "    </tr>\n",
       "    <tr>\n",
       "      <th>4</th>\n",
       "      <td>Fragaria virginiana</td>\n",
       "      <td>Great Smoky Mountains National Park</td>\n",
       "      <td>217</td>\n",
       "      <td>Virginia Strawberry, Wild Strawberry</td>\n",
       "      <td>Vascular Plant</td>\n",
       "    </tr>\n",
       "    <tr>\n",
       "      <th>5</th>\n",
       "      <td>Holcus lanatus</td>\n",
       "      <td>Great Smoky Mountains National Park</td>\n",
       "      <td>216</td>\n",
       "      <td>Common Velvet Grass, Velvetgrass</td>\n",
       "      <td>Vascular Plant</td>\n",
       "    </tr>\n",
       "    <tr>\n",
       "      <th>6</th>\n",
       "      <td>Microtus longicaudus</td>\n",
       "      <td>Great Smoky Mountains National Park</td>\n",
       "      <td>212</td>\n",
       "      <td>Coronation Island Vole, Long-Tailed Vole</td>\n",
       "      <td>Mammal</td>\n",
       "    </tr>\n",
       "    <tr>\n",
       "      <th>7</th>\n",
       "      <td>Apocynum androsaemifolium</td>\n",
       "      <td>Great Smoky Mountains National Park</td>\n",
       "      <td>210</td>\n",
       "      <td>Spreading Dogbane</td>\n",
       "      <td>Vascular Plant</td>\n",
       "    </tr>\n",
       "    <tr>\n",
       "      <th>8</th>\n",
       "      <td>Polygonum aviculare</td>\n",
       "      <td>Great Smoky Mountains National Park</td>\n",
       "      <td>206</td>\n",
       "      <td>Bird Knotweed</td>\n",
       "      <td>Vascular Plant</td>\n",
       "    </tr>\n",
       "    <tr>\n",
       "      <th>9</th>\n",
       "      <td>Sus scrofa</td>\n",
       "      <td>Great Smoky Mountains National Park</td>\n",
       "      <td>205</td>\n",
       "      <td>Feral Hog, Wild Pig</td>\n",
       "      <td>Mammal</td>\n",
       "    </tr>\n",
       "  </tbody>\n",
       "</table>\n",
       "</div>"
      ],
      "text/plain": [
       "                    sci_name                                 park  num_obs  \\\n",
       "0      Streptopelia decaocto  Great Smoky Mountains National Park      256   \n",
       "1              Procyon lotor  Great Smoky Mountains National Park      247   \n",
       "2          Castor canadensis  Great Smoky Mountains National Park      243   \n",
       "3              Puma concolor  Great Smoky Mountains National Park      239   \n",
       "4        Fragaria virginiana  Great Smoky Mountains National Park      217   \n",
       "5             Holcus lanatus  Great Smoky Mountains National Park      216   \n",
       "6       Microtus longicaudus  Great Smoky Mountains National Park      212   \n",
       "7  Apocynum androsaemifolium  Great Smoky Mountains National Park      210   \n",
       "8        Polygonum aviculare  Great Smoky Mountains National Park      206   \n",
       "9                 Sus scrofa  Great Smoky Mountains National Park      205   \n",
       "\n",
       "                                      names        category  \n",
       "0                    Eurasian Collared-Dove            Bird  \n",
       "1                   Common Raccoon, Raccoon          Mammal  \n",
       "2                   American Beaver, Beaver          Mammal  \n",
       "3                   Panther (Mountain Lion)          Mammal  \n",
       "4      Virginia Strawberry, Wild Strawberry  Vascular Plant  \n",
       "5          Common Velvet Grass, Velvetgrass  Vascular Plant  \n",
       "6  Coronation Island Vole, Long-Tailed Vole          Mammal  \n",
       "7                         Spreading Dogbane  Vascular Plant  \n",
       "8                             Bird Knotweed  Vascular Plant  \n",
       "9                       Feral Hog, Wild Pig          Mammal  "
      ]
     },
     "execution_count": 135,
     "metadata": {},
     "output_type": "execute_result"
    }
   ],
   "source": [
    "gsm_species_name.head(10)"
   ]
  },
  {
   "cell_type": "code",
   "execution_count": 136,
   "metadata": {},
   "outputs": [
    {
     "data": {
      "text/html": [
       "<div>\n",
       "<style scoped>\n",
       "    .dataframe tbody tr th:only-of-type {\n",
       "        vertical-align: middle;\n",
       "    }\n",
       "\n",
       "    .dataframe tbody tr th {\n",
       "        vertical-align: top;\n",
       "    }\n",
       "\n",
       "    .dataframe thead th {\n",
       "        text-align: right;\n",
       "    }\n",
       "</style>\n",
       "<table border=\"1\" class=\"dataframe\">\n",
       "  <thead>\n",
       "    <tr style=\"text-align: right;\">\n",
       "      <th></th>\n",
       "      <th>sci_name</th>\n",
       "      <th>park</th>\n",
       "      <th>num_obs</th>\n",
       "      <th>names</th>\n",
       "      <th>category</th>\n",
       "    </tr>\n",
       "  </thead>\n",
       "  <tbody>\n",
       "    <tr>\n",
       "      <th>0</th>\n",
       "      <td>Holcus lanatus</td>\n",
       "      <td>Yellowstone National Park</td>\n",
       "      <td>805</td>\n",
       "      <td>Common Velvet Grass, Velvetgrass</td>\n",
       "      <td>Vascular Plant</td>\n",
       "    </tr>\n",
       "    <tr>\n",
       "      <th>1</th>\n",
       "      <td>Streptopelia decaocto</td>\n",
       "      <td>Yellowstone National Park</td>\n",
       "      <td>771</td>\n",
       "      <td>Eurasian Collared-Dove</td>\n",
       "      <td>Bird</td>\n",
       "    </tr>\n",
       "    <tr>\n",
       "      <th>2</th>\n",
       "      <td>Puma concolor</td>\n",
       "      <td>Yellowstone National Park</td>\n",
       "      <td>753</td>\n",
       "      <td>Panther (Mountain Lion)</td>\n",
       "      <td>Mammal</td>\n",
       "    </tr>\n",
       "    <tr>\n",
       "      <th>3</th>\n",
       "      <td>Procyon lotor</td>\n",
       "      <td>Yellowstone National Park</td>\n",
       "      <td>745</td>\n",
       "      <td>Common Raccoon, Raccoon</td>\n",
       "      <td>Mammal</td>\n",
       "    </tr>\n",
       "    <tr>\n",
       "      <th>4</th>\n",
       "      <td>Hypochaeris radicata</td>\n",
       "      <td>Yellowstone National Park</td>\n",
       "      <td>726</td>\n",
       "      <td>Cat's Ear, Spotted Cat's-Ear</td>\n",
       "      <td>Vascular Plant</td>\n",
       "    </tr>\n",
       "    <tr>\n",
       "      <th>5</th>\n",
       "      <td>Columba livia</td>\n",
       "      <td>Yellowstone National Park</td>\n",
       "      <td>722</td>\n",
       "      <td>Rock Dove</td>\n",
       "      <td>Bird</td>\n",
       "    </tr>\n",
       "    <tr>\n",
       "      <th>6</th>\n",
       "      <td>Castor canadensis</td>\n",
       "      <td>Yellowstone National Park</td>\n",
       "      <td>703</td>\n",
       "      <td>American Beaver, Beaver</td>\n",
       "      <td>Mammal</td>\n",
       "    </tr>\n",
       "    <tr>\n",
       "      <th>7</th>\n",
       "      <td>Myotis lucifugus</td>\n",
       "      <td>Yellowstone National Park</td>\n",
       "      <td>679</td>\n",
       "      <td>Little Brown Bat, Little Brown Myotis</td>\n",
       "      <td>Mammal</td>\n",
       "    </tr>\n",
       "    <tr>\n",
       "      <th>8</th>\n",
       "      <td>Bidens tripartita</td>\n",
       "      <td>Yellowstone National Park</td>\n",
       "      <td>602</td>\n",
       "      <td>Stick-Tight, Three-Lobe Beggar-Ticks</td>\n",
       "      <td>Vascular Plant</td>\n",
       "    </tr>\n",
       "    <tr>\n",
       "      <th>9</th>\n",
       "      <td>Sorex hoyi</td>\n",
       "      <td>Yellowstone National Park</td>\n",
       "      <td>573</td>\n",
       "      <td>Pygmy Shrew</td>\n",
       "      <td>Mammal</td>\n",
       "    </tr>\n",
       "  </tbody>\n",
       "</table>\n",
       "</div>"
      ],
      "text/plain": [
       "                sci_name                       park  num_obs  \\\n",
       "0         Holcus lanatus  Yellowstone National Park      805   \n",
       "1  Streptopelia decaocto  Yellowstone National Park      771   \n",
       "2          Puma concolor  Yellowstone National Park      753   \n",
       "3          Procyon lotor  Yellowstone National Park      745   \n",
       "4   Hypochaeris radicata  Yellowstone National Park      726   \n",
       "5          Columba livia  Yellowstone National Park      722   \n",
       "6      Castor canadensis  Yellowstone National Park      703   \n",
       "7       Myotis lucifugus  Yellowstone National Park      679   \n",
       "8      Bidens tripartita  Yellowstone National Park      602   \n",
       "9             Sorex hoyi  Yellowstone National Park      573   \n",
       "\n",
       "                                   names        category  \n",
       "0       Common Velvet Grass, Velvetgrass  Vascular Plant  \n",
       "1                 Eurasian Collared-Dove            Bird  \n",
       "2                Panther (Mountain Lion)          Mammal  \n",
       "3                Common Raccoon, Raccoon          Mammal  \n",
       "4           Cat's Ear, Spotted Cat's-Ear  Vascular Plant  \n",
       "5                              Rock Dove            Bird  \n",
       "6                American Beaver, Beaver          Mammal  \n",
       "7  Little Brown Bat, Little Brown Myotis          Mammal  \n",
       "8   Stick-Tight, Three-Lobe Beggar-Ticks  Vascular Plant  \n",
       "9                            Pygmy Shrew          Mammal  "
      ]
     },
     "execution_count": 136,
     "metadata": {},
     "output_type": "execute_result"
    }
   ],
   "source": [
    "yellowstone_species_name.head(10)"
   ]
  },
  {
   "cell_type": "code",
   "execution_count": 137,
   "metadata": {},
   "outputs": [
    {
     "data": {
      "text/html": [
       "<div>\n",
       "<style scoped>\n",
       "    .dataframe tbody tr th:only-of-type {\n",
       "        vertical-align: middle;\n",
       "    }\n",
       "\n",
       "    .dataframe tbody tr th {\n",
       "        vertical-align: top;\n",
       "    }\n",
       "\n",
       "    .dataframe thead th {\n",
       "        text-align: right;\n",
       "    }\n",
       "</style>\n",
       "<table border=\"1\" class=\"dataframe\">\n",
       "  <thead>\n",
       "    <tr style=\"text-align: right;\">\n",
       "      <th></th>\n",
       "      <th>sci_name</th>\n",
       "      <th>park</th>\n",
       "      <th>num_obs</th>\n",
       "      <th>names</th>\n",
       "      <th>category</th>\n",
       "    </tr>\n",
       "  </thead>\n",
       "  <tbody>\n",
       "    <tr>\n",
       "      <th>0</th>\n",
       "      <td>Hypochaeris radicata</td>\n",
       "      <td>Yosemite National Park</td>\n",
       "      <td>505</td>\n",
       "      <td>Cat's Ear, Spotted Cat's-Ear</td>\n",
       "      <td>Vascular Plant</td>\n",
       "    </tr>\n",
       "    <tr>\n",
       "      <th>1</th>\n",
       "      <td>Castor canadensis</td>\n",
       "      <td>Yosemite National Park</td>\n",
       "      <td>501</td>\n",
       "      <td>American Beaver, Beaver</td>\n",
       "      <td>Mammal</td>\n",
       "    </tr>\n",
       "    <tr>\n",
       "      <th>2</th>\n",
       "      <td>Holcus lanatus</td>\n",
       "      <td>Yosemite National Park</td>\n",
       "      <td>463</td>\n",
       "      <td>Common Velvet Grass, Velvetgrass</td>\n",
       "      <td>Vascular Plant</td>\n",
       "    </tr>\n",
       "    <tr>\n",
       "      <th>3</th>\n",
       "      <td>Streptopelia decaocto</td>\n",
       "      <td>Yosemite National Park</td>\n",
       "      <td>457</td>\n",
       "      <td>Eurasian Collared-Dove</td>\n",
       "      <td>Bird</td>\n",
       "    </tr>\n",
       "    <tr>\n",
       "      <th>4</th>\n",
       "      <td>Procyon lotor</td>\n",
       "      <td>Yosemite National Park</td>\n",
       "      <td>453</td>\n",
       "      <td>Common Raccoon, Raccoon</td>\n",
       "      <td>Mammal</td>\n",
       "    </tr>\n",
       "    <tr>\n",
       "      <th>5</th>\n",
       "      <td>Columba livia</td>\n",
       "      <td>Yosemite National Park</td>\n",
       "      <td>423</td>\n",
       "      <td>Rock Dove</td>\n",
       "      <td>Bird</td>\n",
       "    </tr>\n",
       "    <tr>\n",
       "      <th>6</th>\n",
       "      <td>Puma concolor</td>\n",
       "      <td>Yosemite National Park</td>\n",
       "      <td>408</td>\n",
       "      <td>Panther (Mountain Lion)</td>\n",
       "      <td>Mammal</td>\n",
       "    </tr>\n",
       "    <tr>\n",
       "      <th>7</th>\n",
       "      <td>Myotis lucifugus</td>\n",
       "      <td>Yosemite National Park</td>\n",
       "      <td>396</td>\n",
       "      <td>Little Brown Bat, Little Brown Myotis</td>\n",
       "      <td>Mammal</td>\n",
       "    </tr>\n",
       "    <tr>\n",
       "      <th>8</th>\n",
       "      <td>Nepeta cataria</td>\n",
       "      <td>Yosemite National Park</td>\n",
       "      <td>387</td>\n",
       "      <td>Catnip</td>\n",
       "      <td>Vascular Plant</td>\n",
       "    </tr>\n",
       "    <tr>\n",
       "      <th>9</th>\n",
       "      <td>Agrostis variabilis</td>\n",
       "      <td>Yosemite National Park</td>\n",
       "      <td>382</td>\n",
       "      <td>Mountain Bentgrass</td>\n",
       "      <td>Vascular Plant</td>\n",
       "    </tr>\n",
       "  </tbody>\n",
       "</table>\n",
       "</div>"
      ],
      "text/plain": [
       "                sci_name                    park  num_obs  \\\n",
       "0   Hypochaeris radicata  Yosemite National Park      505   \n",
       "1      Castor canadensis  Yosemite National Park      501   \n",
       "2         Holcus lanatus  Yosemite National Park      463   \n",
       "3  Streptopelia decaocto  Yosemite National Park      457   \n",
       "4          Procyon lotor  Yosemite National Park      453   \n",
       "5          Columba livia  Yosemite National Park      423   \n",
       "6          Puma concolor  Yosemite National Park      408   \n",
       "7       Myotis lucifugus  Yosemite National Park      396   \n",
       "8         Nepeta cataria  Yosemite National Park      387   \n",
       "9    Agrostis variabilis  Yosemite National Park      382   \n",
       "\n",
       "                                   names        category  \n",
       "0           Cat's Ear, Spotted Cat's-Ear  Vascular Plant  \n",
       "1                American Beaver, Beaver          Mammal  \n",
       "2       Common Velvet Grass, Velvetgrass  Vascular Plant  \n",
       "3                 Eurasian Collared-Dove            Bird  \n",
       "4                Common Raccoon, Raccoon          Mammal  \n",
       "5                              Rock Dove            Bird  \n",
       "6                Panther (Mountain Lion)          Mammal  \n",
       "7  Little Brown Bat, Little Brown Myotis          Mammal  \n",
       "8                                 Catnip  Vascular Plant  \n",
       "9                     Mountain Bentgrass  Vascular Plant  "
      ]
     },
     "execution_count": 137,
     "metadata": {},
     "output_type": "execute_result"
    }
   ],
   "source": [
    "yosemite_species_name.head(10)"
   ]
  },
  {
   "cell_type": "markdown",
   "metadata": {},
   "source": [
    "As we can see, most of the Top 10 most-spotted species appear across all parks. The most spotted species, the velveltgrass, appears in the Top 10 of all 4 parks. The Rock Dove, the most spotted specie in the Bryce National Park, appears in the Top 10 of Yellowstone and Yosemite parks; the Eurasian-Collared Dove (most-spotted specie in the Great Smoky Mountains Park) appears in all 4 Top 10; while the Cat's Ear Plant (most-spotted specie in the Yosemite Park) appears in 3 out of 4 Top 10 (does not appear in the Great Smoky Mountains Park Top 10). 2 Top 10 are leaded by bird species, and the other 2 by vascular plant species."
   ]
  },
  {
   "cell_type": "markdown",
   "metadata": {},
   "source": [
    "## Conclusions\n",
    "From the data, this project allowed to understand certain characteristics about the species (categories, parks, conservation status, and number of observations) to draw conclusions about the current biological variety within each of the 4 parks. The parks were particularly interested in answering the following questions, and these are the results from the research:\n",
    "- **What is the distribution of conservation status for species?**\n",
    "There are 178 species excluding 'No Intervention'. Of this group, 151 are 'Species of Concern' (85%). The threatened species are 9 in total (5%); while the endangered species represent 15 species in total, or 8% of the total species 'at some degree of danger'. The birds are the largest group (75 species in total), most of them being 'Species of Concern' (68 in total, or 91% of the whole birds category)\n",
    "\n",
    "\n",
    "- **Are certain types of species more likely to be endangered?**\n",
    "The family which has the largest amount of species under protection are the vascular plants (46 species), yet the mammals and the birds are the family with the biggest percentage of species currently protected (21% and 18% respectively)\n",
    "\n",
    "\n",
    "- **Are the differences between species and their conservation status significant? (chi2 test between category and status)**\n",
    "For mammals and birds: p-val is above 0.05, there is no significant association between the category and the level of 'protection' that the families have.\n",
    "For mammals and fishes: p-val is below 0.05, there is significant association between the category and the level of protection.\n",
    "For mammals and reptiles: p-val result is below 0.05, there is significant association between the category and the level of protection.\n",
    "\n",
    "\n",
    "- **Which species were spotted the most at each park?**\n",
    "The velveltgrass, the most spotted species, appears in the Top 10 of all 4 parks. The Rock Dove, the most spotted specie in the Bryce National Park, appears in the Top 10 of Yellowstone and Yosemite parks; the Eurasian-Collared Dove (most-spotted specie in the Great Smoky Mountains Park) appears in all 4 Top 10; while the Cat's Ear Plant (most-spotted specie in the Yosemite Park) appears in 3 out of 4 Top 10 (does not appear in the Great Smoky Mountains Park Top 10)."
   ]
  },
  {
   "cell_type": "markdown",
   "metadata": {},
   "source": [
    "## Next Steps\n",
    "Since this dataset only included observations from the last 7 days , it would have been interesting to have more data to find out the conservation status for various species for longer periods of time. Also, having the area per park would have been very useful since it would have allowed to calculate the average number of observation/m2 for instance. "
   ]
  }
 ],
 "metadata": {
  "kernelspec": {
   "display_name": "Python 3",
   "language": "python",
   "name": "python3"
  },
  "language_info": {
   "codemirror_mode": {
    "name": "ipython",
    "version": 3
   },
   "file_extension": ".py",
   "mimetype": "text/x-python",
   "name": "python",
   "nbconvert_exporter": "python",
   "pygments_lexer": "ipython3",
   "version": "3.9.1"
  }
 },
 "nbformat": 4,
 "nbformat_minor": 4
}
