{
 "cells": [
  {
   "cell_type": "markdown",
   "id": "aquatic-fellow",
   "metadata": {},
   "source": [
    "# This is Jeopardy!\n",
    "### Author: Carlos Paiva"
   ]
  },
  {
   "cell_type": "markdown",
   "id": "rubber-satin",
   "metadata": {},
   "source": [
    "### Project Description\n",
    "Assignment given as a practising exercise while enrolled in the Codecademy Data Scientist Path/Chapter: Data Manipulation with Pandas"
   ]
  },
  {
   "cell_type": "markdown",
   "id": "induced-column",
   "metadata": {},
   "source": [
    "### Setup and Data Exploration"
   ]
  },
  {
   "cell_type": "code",
   "execution_count": 48,
   "id": "dangerous-enterprise",
   "metadata": {},
   "outputs": [
    {
     "name": "stderr",
     "output_type": "stream",
     "text": [
      "<ipython-input-48-5dec127021bc>:3: FutureWarning: Passing a negative integer is deprecated in version 1.0 and will not be supported in future version. Instead, use None to not limit the column width.\n",
      "  pd.set_option('display.max_colwidth', -1)\n"
     ]
    },
    {
     "name": "stdout",
     "output_type": "stream",
     "text": [
      "   Show Number    Air Date      Round                         Category  Value  \\\n",
      "0  4680         2004-12-31  Jeopardy!  HISTORY                          $200    \n",
      "1  4680         2004-12-31  Jeopardy!  ESPN's TOP 10 ALL-TIME ATHLETES  $200    \n",
      "2  4680         2004-12-31  Jeopardy!  EVERYBODY TALKS ABOUT IT...      $200    \n",
      "3  4680         2004-12-31  Jeopardy!  THE COMPANY LINE                 $200    \n",
      "4  4680         2004-12-31  Jeopardy!  EPITAPHS & TRIBUTES              $200    \n",
      "5  4680         2004-12-31  Jeopardy!  3-LETTER WORDS                   $200    \n",
      "6  4680         2004-12-31  Jeopardy!  HISTORY                          $400    \n",
      "7  4680         2004-12-31  Jeopardy!  ESPN's TOP 10 ALL-TIME ATHLETES  $400    \n",
      "8  4680         2004-12-31  Jeopardy!  EVERYBODY TALKS ABOUT IT...      $400    \n",
      "9  4680         2004-12-31  Jeopardy!  THE COMPANY LINE                 $400    \n",
      "\n",
      "                                                                                                        Question  \\\n",
      "0  For the last 8 years of his life, Galileo was under house arrest for espousing this man's theory                \n",
      "1  No. 2: 1912 Olympian; football star at Carlisle Indian School; 6 MLB seasons with the Reds, Giants & Braves     \n",
      "2  The city of Yuma in this state has a record average of 4,055 hours of sunshine each year                        \n",
      "3  In 1963, live on \"The Art Linkletter Show\", this company served its billionth burger                            \n",
      "4  Signer of the Dec. of Indep., framer of the Constitution of Mass., second President of the United States        \n",
      "5  In the title of an Aesop fable, this insect shared billing with a grasshopper                                   \n",
      "6  Built in 312 B.C. to link Rome & the South of Italy, it's still in use today                                    \n",
      "7  No. 8: 30 steals for the Birmingham Barons; 2,306 steals for the Bulls                                          \n",
      "8  In the winter of 1971-72, a record 1,122 inches of snow fell at Rainier Paradise Ranger Station in this state   \n",
      "9  This housewares store was named for the packaging its merchandise came in & was first displayed on              \n",
      "\n",
      "           Answer  \n",
      "0  Copernicus      \n",
      "1  Jim Thorpe      \n",
      "2  Arizona         \n",
      "3  McDonald's      \n",
      "4  John Adams      \n",
      "5  the ant         \n",
      "6  the Appian Way  \n",
      "7  Michael Jordan  \n",
      "8  Washington      \n",
      "9  Crate & Barrel  \n",
      "Index(['Show Number', ' Air Date', ' Round', ' Category', ' Value',\n",
      "       ' Question', ' Answer'],\n",
      "      dtype='object')\n",
      "Index(['show_number', 'air_date', 'round', 'category', 'value', 'question',\n",
      "       'answer'],\n",
      "      dtype='object')\n",
      "\n",
      "The total length of the dataset is 216930 rows.\n"
     ]
    }
   ],
   "source": [
    "#Importing packages\n",
    "import pandas as pd\n",
    "pd.set_option('display.max_colwidth', -1)\n",
    "\n",
    "#Reading CSV file\n",
    "jeopardy_dataset = pd.read_csv('jeopardy.csv')\n",
    "print(jeopardy_dataset.head(10))\n",
    "print(jeopardy_dataset.columns)\n",
    "\n",
    "#Changing names of columns for easier coding\n",
    "jeopardy_dataset = jeopardy_dataset.rename(columns={'Show Number': 'show_number',' Air Date': 'air_date',\n",
    "                                                    ' Round': 'round', ' Category': 'category', ' Value': 'value',\n",
    "                                                    ' Question': 'question', ' Answer': 'answer'})\n",
    "print(jeopardy_dataset.columns)\n",
    "\n",
    "#Finding total length of full dataset\n",
    "print('\\nThe total length of the dataset is ' + str(len(jeopardy_dataset)) + ' rows.')"
   ]
  },
  {
   "cell_type": "markdown",
   "id": "interim-desert",
   "metadata": {},
   "source": [
    "### 1. Write a function that filters the dataset for questions that contains all of the words in a list of words"
   ]
  },
  {
   "cell_type": "code",
   "execution_count": 37,
   "id": "vietnamese-wells",
   "metadata": {},
   "outputs": [
    {
     "name": "stdout",
     "output_type": "stream",
     "text": [
      "4953      Both England's King George V & FDR put their stamp of approval on this \"King of Hobbies\"              \n",
      "6337      In retaliation for Viking raids, this \"Unready\" king of England attacks Norse areas of the Isle of Man\n",
      "9191      This king of England beat the odds to trounce the French in the 1415 Battle of Agincourt              \n",
      "11710     This Scotsman, the first Stuart king of England, was called \"The Wisest Fool in Christendom\"          \n",
      "13454     It's the number that followed the last king of England named William                                  \n",
      "                                          ...                                                                   \n",
      "208295    In 1066 this great-great grandson of Rollo made what some call the last Viking invasion of England    \n",
      "208742    Dutch-born king who ruled England jointly with Mary II & is a tasty New Zealand fish                  \n",
      "213870    In 1781 William Herschel discovered Uranus & initially named it after this king of England            \n",
      "216021    His nickname was \"Bertie\", but he used this name & number when he became king of England in 1901      \n",
      "216789    This kingdom of England grew from 2 settlements, one founded around 495 by Cerdic & his son Cynric    \n",
      "Name: question, Length: 152, dtype: object\n"
     ]
    }
   ],
   "source": [
    "#Defining the word filter function\n",
    "def word_filter(dataset, word_list):\n",
    "    filter = lambda x: all(word.lower() in x.lower() for word in word_list)\n",
    "    return dataset.loc[dataset[\"question\"].apply(filter)]\n",
    "\n",
    "#Testing the function\n",
    "word_filter_test = word_filter(jeopardy_dataset, ['King', 'England'])\n",
    "print(word_filter_test.question)"
   ]
  },
  {
   "cell_type": "markdown",
   "id": "mathematical-disease",
   "metadata": {},
   "source": [
    "### 2. Convert the \" Value\" column to floats in a new column. Then, calculate the average value of questions that contain the word \"King\""
   ]
  },
  {
   "cell_type": "code",
   "execution_count": 38,
   "id": "charged-advertising",
   "metadata": {},
   "outputs": [
    {
     "name": "stdout",
     "output_type": "stream",
     "text": [
      "The total length of the new dataset is 7409 rows.\n",
      "\n",
      "771.8833850722094\n"
     ]
    }
   ],
   "source": [
    "#Adding new column to the Jeopardy dataset with the values from 'Values' as floats\n",
    "jeopardy_dataset['float_values'] = jeopardy_dataset.value.apply(lambda x: float(x[1:].replace(',','')) \n",
    "                                                                if x[0]=='$' else 0)\n",
    "\n",
    "#Using the word filter function for obtaining a sub-dataframe of questions that contain the word \"King\"\n",
    "questions_king_dataset = word_filter(jeopardy_dataset, ['King'])\n",
    "print('The total length of the new dataset is ' + str(len(questions_king_dataset)) + ' rows.\\n')\n",
    "\n",
    "#Calculating the average value for the new dataframe\n",
    "average_value_king = questions_king_dataset.float_values.mean()\n",
    "print(average_value_king)"
   ]
  },
  {
   "cell_type": "markdown",
   "id": "prescription-ottawa",
   "metadata": {},
   "source": [
    "### 3. Write a function that returns the count of the unique answers to all of the questions in a dataset"
   ]
  },
  {
   "cell_type": "code",
   "execution_count": 39,
   "id": "frozen-constant",
   "metadata": {},
   "outputs": [
    {
     "name": "stdout",
     "output_type": "stream",
     "text": [
      "Henry VIII     55\n",
      "Solomon        35\n",
      "Richard III    33\n",
      "Louis XIV      31\n",
      "David          30\n",
      "               ..\n",
      "Dan Aykroyd    1 \n",
      "Dorothy        1 \n",
      "the boom       1 \n",
      "a sandwich     1 \n",
      "\"Hound Dog\"    1 \n",
      "Name: answer, Length: 5268, dtype: int64\n"
     ]
    }
   ],
   "source": [
    "#Writing function for calculating number of unique answers to question:\n",
    "def count_unique_ans(dataset):\n",
    "    count = dataset.answer.value_counts()\n",
    "    return count\n",
    "\n",
    "#Testing the function on dataset with questions that contain the word \"King\"\n",
    "count_king_answer = count_unique_ans(questions_king_dataset)\n",
    "print(count_king_answer)"
   ]
  },
  {
   "cell_type": "markdown",
   "id": "generic-airport",
   "metadata": {},
   "source": [
    "### 4. Investigate the ways in which questions change over time by filtering by the date. E.g.: How many questions from the 90s use the word \"Computer\" compared to questions from the 2000s?"
   ]
  },
  {
   "cell_type": "code",
   "execution_count": 54,
   "id": "pressing-nation",
   "metadata": {},
   "outputs": [
    {
     "name": "stdout",
     "output_type": "stream",
     "text": [
      "The total length of the dataset containing the word \"Computer\" in the questions field is 431 rows.\n",
      "\n",
      "The total length of the dataset containing the word \"Computer\" in the questions field and belonging to the \n",
      "1980s is 6 rows.\n",
      "\n",
      "The total length of the dataset containing the word \"Computer\" in the questions field and belonging to the \n",
      "1990s is 98 rows.\n",
      "\n",
      "The total length of the dataset containing the word \"Computer\" in the questions field and belonging to the \n",
      "2000s is 268 rows.\n",
      "\n",
      "The total length of the dataset containing the word \"Computer\" in the questions field and belonging to the \n",
      "2010s is 59 rows.\n",
      "\n"
     ]
    }
   ],
   "source": [
    "#Using the word filter function for obtaining a sub-dataframe of questions that contain the word \"Computer\"\n",
    "questions_computer_dataset = word_filter(jeopardy_dataset, ['Computer'])\n",
    "print('The total length of the dataset containing the word \"Computer\" in the questions field is ' + str(len(questions_computer_dataset)) + ' rows.\\n')\n",
    "\n",
    "#Defining the 'Air Date' filter function\n",
    "def date_filter(dataset, decade):\n",
    "    new_dataset = dataset[dataset.air_date.str[:3] == decade[:3]]\n",
    "    return new_dataset\n",
    "\n",
    "#Using the word filter function for obtaining a sub-dataframe of questions that contain belong to the 1980s\n",
    "computer_1980_dataset = date_filter(questions_computer_dataset, '1980s')\n",
    "print('The total length of the dataset containing the word \"Computer\" in the questions field and belonging to the \\n1980s is ' + str(len(computer_1980_dataset)) + ' rows.\\n')\n",
    "\n",
    "#Using the word filter function for obtaining a sub-dataframe of questions that contain belong to the 1990s\n",
    "computer_1990_dataset = date_filter(questions_computer_dataset, '1990s')\n",
    "print('The total length of the dataset containing the word \"Computer\" in the questions field and belonging to the \\n1990s is ' + str(len(computer_1990_dataset)) + ' rows.\\n')\n",
    "\n",
    "#Using the word filter function for obtaining a sub-dataframe of questions that contain belong to the 2000s\n",
    "computer_2000_dataset = date_filter(questions_computer_dataset, '2000s')\n",
    "print('The total length of the dataset containing the word \"Computer\" in the questions field and belonging to the \\n2000s is ' + str(len(computer_2000_dataset)) + ' rows.\\n')\n",
    "\n",
    "#Using the word filter function for obtaining a sub-dataframe of questions that contain belong to the 2010s\n",
    "computer_2010_dataset = date_filter(questions_computer_dataset, '2010s')\n",
    "print('The total length of the dataset containing the word \"Computer\" in the questions field and belonging to the \\n2010s is ' + str(len(computer_2010_dataset)) + ' rows.\\n')"
   ]
  },
  {
   "cell_type": "markdown",
   "id": "increasing-breeding",
   "metadata": {},
   "source": [
    "### 5. Find out if there is a connection between the round and the category. Are you more likely to find certain categories, like \"Literature\" in Single Jeopardy or Double Jeopardy?"
   ]
  },
  {
   "cell_type": "code",
   "execution_count": 68,
   "id": "tight-sector",
   "metadata": {},
   "outputs": [
    {
     "name": "stdout",
     "output_type": "stream",
     "text": [
      "27995\n",
      "                          category             round  question\n",
      "0       A JIM CARREY FILM FESTIVAL  Jeopardy!         5       \n",
      "1      \"!\"                          Jeopardy!         5       \n",
      "2      \"-ARES\"                      Double Jeopardy!  5       \n",
      "3      \"-ICIAN\" EXPEDITION          Jeopardy!         5       \n",
      "4      \"...OD\" WORDS                Double Jeopardy!  5       \n",
      "...              ...                             ... ..       \n",
      "31681  “R” MOVIES                   Double Jeopardy!  5       \n",
      "31682  “SAINTS”                     Double Jeopardy!  4       \n",
      "31683  “SOUTH”                      Double Jeopardy!  5       \n",
      "31684  “STREETS”                    Jeopardy!         5       \n",
      "31685  “WH”AT IS IT?                Double Jeopardy!  5       \n",
      "\n",
      "[31686 rows x 3 columns]\n",
      "round                        Double Jeopardy!  Final Jeopardy!  Jeopardy!  \\\n",
      "category                                                                    \n",
      " A JIM CARREY FILM FESTIVAL NaN               NaN               5.0         \n",
      "\"!\"                         NaN               NaN               5.0         \n",
      "\"-ARES\"                      5.0              NaN              NaN          \n",
      "\"-ICIAN\" EXPEDITION         NaN               NaN               5.0         \n",
      "\"...OD\" WORDS                5.0              NaN              NaN          \n",
      "...                          ..                ..               ...         \n",
      "“R” MOVIES                   5.0              NaN              NaN          \n",
      "“SAINTS”                     4.0              NaN              NaN          \n",
      "“SOUTH”                      5.0              NaN              NaN          \n",
      "“STREETS”                   NaN               NaN               5.0         \n",
      "“WH”AT IS IT?                5.0              NaN              NaN          \n",
      "\n",
      "round                        Tiebreaker  \n",
      "category                                 \n",
      " A JIM CARREY FILM FESTIVAL NaN          \n",
      "\"!\"                         NaN          \n",
      "\"-ARES\"                     NaN          \n",
      "\"-ICIAN\" EXPEDITION         NaN          \n",
      "\"...OD\" WORDS               NaN          \n",
      "...                          ..          \n",
      "“R” MOVIES                  NaN          \n",
      "“SAINTS”                    NaN          \n",
      "“SOUTH”                     NaN          \n",
      "“STREETS”                   NaN          \n",
      "“WH”AT IS IT?               NaN          \n",
      "\n",
      "[27995 rows x 4 columns]\n",
      "         category             round  question\n",
      "16377  LITERATURE  Double Jeopardy!  381     \n",
      "16378  LITERATURE  Final Jeopardy!   10      \n",
      "16379  LITERATURE  Jeopardy!         105     \n",
      "\n",
      "Answer: There are more 105 questions of the LITERATURE category in the Jeopardy! round, 381 in the Double \n",
      "Jeopardy! round, and 10 in the Final Jeopardy! round.\n"
     ]
    }
   ],
   "source": [
    "#Creating groups and pivot table by round and category\n",
    "print(len(jeopardy_dataset.category.unique()))\n",
    "round_category = jeopardy_dataset.groupby(['category', 'round']).question.count().reset_index()\n",
    "print(round_category)\n",
    "round_category_pivot = round_category.pivot(columns='round', index='category', values='question')\n",
    "print(round_category_pivot)\n",
    "\n",
    "#Checking for the \"Literature\" category\n",
    "literature = round_category[round_category.category == 'LITERATURE']\n",
    "print(literature)\n",
    "print('\\nAnswer: There are more 105 questions of the LITERATURE category in the Jeopardy! round, 381 in the Double \\nJeopardy! round, and 10 in the Final Jeopardy! round.')"
   ]
  }
 ],
 "metadata": {
  "kernelspec": {
   "display_name": "Python 3",
   "language": "python",
   "name": "python3"
  },
  "language_info": {
   "codemirror_mode": {
    "name": "ipython",
    "version": 3
   },
   "file_extension": ".py",
   "mimetype": "text/x-python",
   "name": "python",
   "nbconvert_exporter": "python",
   "pygments_lexer": "ipython3",
   "version": "3.9.1"
  }
 },
 "nbformat": 4,
 "nbformat_minor": 5
}
