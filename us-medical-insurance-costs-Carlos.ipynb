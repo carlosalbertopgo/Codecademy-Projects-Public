{
 "cells": [
  {
   "cell_type": "markdown",
   "metadata": {},
   "source": [
    "# U.S. Medical Insurance Costs"
   ]
  },
  {
   "cell_type": "markdown",
   "metadata": {},
   "source": [
    "### Project Author: Carlos Paiva"
   ]
  },
  {
   "cell_type": "markdown",
   "metadata": {},
   "source": [
    "The first steps for solving this project are to have a look at the raw data from the file \"insurance.csv\" (which will be our main datasource), create the lists to import this information in our python program and load the required python modules for working on it. Code for this follows below:"
   ]
  },
  {
   "cell_type": "code",
   "execution_count": 3,
   "metadata": {},
   "outputs": [],
   "source": [
    "# Import csv library\n",
    "import csv"
   ]
  },
  {
   "cell_type": "code",
   "execution_count": 4,
   "metadata": {},
   "outputs": [],
   "source": [
    "# Create empty lists to populate with raw data from imported file:\n",
    "age = []\n",
    "sex = []\n",
    "bmi = []\n",
    "children = []\n",
    "smoker = []\n",
    "region = []\n",
    "charges = []"
   ]
  },
  {
   "cell_type": "code",
   "execution_count": 5,
   "metadata": {},
   "outputs": [],
   "source": [
    "# Populating lists:\n",
    "with open(\"insurance.csv\") as insurance_data:\n",
    "    insurance_dict = csv.DictReader(insurance_data)\n",
    "    for row in insurance_dict:\n",
    "        age.append(row[\"age\"])\n",
    "        sex.append(row[\"sex\"])\n",
    "        bmi.append(row[\"bmi\"])\n",
    "        children.append(row[\"children\"])\n",
    "        smoker.append(row[\"smoker\"])\n",
    "        region.append(row[\"region\"])\n",
    "        charges.append(row[\"charges\"])"
   ]
  },
  {
   "cell_type": "markdown",
   "metadata": {},
   "source": [
    "For the analysis, we will perform 7 tasks that will help us to have more insight about the dataset:\n",
    "1. Find the average age of the patients\n",
    "2. Return the number of males vs. females countered in the dataset and compare average cost for males vs females\n",
    "3. Find the geographical location of the patients and analyze the total number of patients from each region\n",
    "4. Return the average yearly medical charges of the patients\n",
    "5. Look at the difference between the average cost for smokers vs non smokers\n",
    "6. Figure out what the average age is for someone who has at least one child in the dataset\n",
    "7. Create a dictionary that contains all patient information"
   ]
  },
  {
   "cell_type": "markdown",
   "metadata": {},
   "source": [
    "#### 1. Find the average age of the patients"
   ]
  },
  {
   "cell_type": "code",
   "execution_count": 6,
   "metadata": {},
   "outputs": [
    {
     "name": "stdout",
     "output_type": "stream",
     "text": [
      "The total number of patients is 1338.\n"
     ]
    }
   ],
   "source": [
    "# Calculating total number of patients:\n",
    "number_of_patients = len(age)\n",
    "print(\"The total number of patients is \" + str(number_of_patients) + \".\")"
   ]
  },
  {
   "cell_type": "code",
   "execution_count": 7,
   "metadata": {},
   "outputs": [
    {
     "name": "stdout",
     "output_type": "stream",
     "text": [
      "The average age of the patients in the dataset is 39.2.\n"
     ]
    }
   ],
   "source": [
    "# Calculating average age of patients:\n",
    "total_age = 0\n",
    "for patient in age:\n",
    "    total_age += int(patient)\n",
    "\n",
    "average_age = round(total_age/number_of_patients, 1)\n",
    "print(\"The average age of the patients in the dataset is \" + str(average_age) + \".\")"
   ]
  },
  {
   "cell_type": "markdown",
   "metadata": {},
   "source": [
    "#### 2. Return the number of males vs. females countered in the dataset and compare average cost for males vs females"
   ]
  },
  {
   "cell_type": "code",
   "execution_count": 32,
   "metadata": {},
   "outputs": [
    {
     "name": "stdout",
     "output_type": "stream",
     "text": [
      "The total number of male patients in the dataset is 676.\n",
      "The percentage that the male patients represent of the total is 50.5%.\n",
      "\n",
      "The total number of female patients in the dataset is 662.\n",
      "The percentage that the female patients represent of the total is 49.5%.\n",
      "\n",
      "The average cost for male patients is 13956.8.\n",
      "The average cost for female patients is 12569.6.\n",
      "The average cost for male patients is 13956.8.\n",
      "The average cost for female patients is 12569.6.\n",
      "\n",
      "Conclusions:\n",
      "In the dataset, we can see that the breakdown between males and females is almost 50-50. Therefore, no biases expected here when analyzing the average cost for each group.\n",
      "The average cost for male patients is 1387.2 dollars more than for female patients.\n"
     ]
    }
   ],
   "source": [
    "# Counting number of males and females:\n",
    "number_of_males = 0\n",
    "number_of_females = 0\n",
    "for patient in sex:\n",
    "    if patient==\"male\":\n",
    "        number_of_males += 1\n",
    "    if patient==\"female\":\n",
    "        number_of_females += 1\n",
    "        \n",
    "percentage_males = number_of_males/number_of_patients*100\n",
    "percentage_females = number_of_females/number_of_patients*100\n",
    "        \n",
    "print(\"The total number of male patients in the dataset is \" + str(number_of_males) + \".\\nThe percentage that the male patients represent of the total is \" + str(round(percentage_males,1)) + \"%.\\n\")\n",
    "print(\"The total number of female patients in the dataset is \" + str(number_of_females) + \".\\nThe percentage that the female patients represent of the total is \" + str(round(percentage_females,1)) + \"%.\\n\")\n",
    "\n",
    "# Comparing average costs for males vs females:\n",
    "cost_by_sex = list(zip(sex, charges))\n",
    "\n",
    "def aver_cost_sex(list, sex_obj):\n",
    "    tot_cost_sex = 0\n",
    "    num_patients = 0\n",
    "    for sex_ind, charge in list:\n",
    "        if sex_ind == sex_obj:\n",
    "            num_patients += 1\n",
    "            tot_cost_sex += float(charge)\n",
    "    aver_cost = tot_cost_sex / num_patients\n",
    "    print(\"The average cost for \" + sex_obj + \" patients is \" + str(round(aver_cost, 1)) + \".\")\n",
    "    return aver_cost\n",
    "\n",
    "aver_cost_sex(cost_by_sex, \"male\")\n",
    "aver_cost_sex(cost_by_sex, \"female\")\n",
    "\n",
    "male_cost = aver_cost_sex(cost_by_sex, \"male\")\n",
    "female_cost = aver_cost_sex(cost_by_sex, \"female\")\n",
    "diff_sex = male_cost - female_cost\n",
    "\n",
    "print(\"\")\n",
    "print(\"Conclusions:\\nIn the dataset, we can see that the breakdown between males and females is almost 50-50. Therefore, no biases expected here when analyzing the average cost for each group.\\nThe average cost for male patients is \" + str(round(diff_sex,1)) + \" dollars more than for female patients.\")\n"
   ]
  },
  {
   "cell_type": "markdown",
   "metadata": {},
   "source": [
    "#### 3. Find the geographical location of the patients and analyze the total number of patients from each region"
   ]
  },
  {
   "cell_type": "code",
   "execution_count": 39,
   "metadata": {},
   "outputs": [
    {
     "name": "stdout",
     "output_type": "stream",
     "text": [
      "The list of possible regions where the patients from the dataset come from is: ['southwest', 'southeast', 'northwest', 'northeast']\n",
      "\n",
      "The number of patients from southwest is 325.\n",
      "The number of patients from southeast is 364.\n",
      "The number of patients from northwest is 325.\n",
      "The number of patients from northeast is 324.\n",
      "\n",
      "Conclusion:\n",
      "The number of patients from the dataset is evenly distributed amongst the four regions.\n"
     ]
    }
   ],
   "source": [
    "# Creating a list of the unique geographical regions in the dataset:\n",
    "unique_regions = []\n",
    "\n",
    "for location in region:\n",
    "    if location not in unique_regions:\n",
    "        unique_regions.append(location)\n",
    "\n",
    "print(\"The list of possible regions where the patients from the dataset come from is: \" + str(unique_regions) + \"\\n\")\n",
    "\n",
    "# Counting the number of patients from each region using a function:\n",
    "def count_region(list, reg_to_count):\n",
    "    counter = 0\n",
    "    for location in list:\n",
    "        if location == reg_to_count:\n",
    "            counter += 1\n",
    "    print(\"The number of patients from \" + reg_to_count + \" is \" + str(counter) + \".\")\n",
    "\n",
    "count_region(region, \"southwest\")\n",
    "count_region(region, \"southeast\")\n",
    "count_region(region, \"northwest\")\n",
    "count_region(region, \"northeast\")\n",
    "\n",
    "print(\"\")\n",
    "print(\"Conclusion:\\nThe number of patients from the dataset is evenly distributed amongst the four regions.\")\n"
   ]
  },
  {
   "cell_type": "markdown",
   "metadata": {},
   "source": [
    "#### 4. Return the average yearly medical charges of the patients"
   ]
  },
  {
   "cell_type": "code",
   "execution_count": 10,
   "metadata": {},
   "outputs": [
    {
     "name": "stdout",
     "output_type": "stream",
     "text": [
      "The average yearly charges for all the patients in the dataset is USD 13270.42.\n"
     ]
    }
   ],
   "source": [
    "# Calculating average yearly charges:\n",
    "total_charges = 0\n",
    "for patient in charges:\n",
    "    total_charges += float(patient)\n",
    "\n",
    "average_charges = round(total_charges/number_of_patients,2)\n",
    "print(\"The average yearly charges for all the patients in the dataset is USD \" + str(average_charges) + \".\")"
   ]
  },
  {
   "cell_type": "markdown",
   "metadata": {},
   "source": [
    "#### 5. Look at the difference between the average cost for smokers vs non smokers"
   ]
  },
  {
   "cell_type": "code",
   "execution_count": 36,
   "metadata": {},
   "outputs": [
    {
     "name": "stdout",
     "output_type": "stream",
     "text": [
      "The average insurance cost for non smokers is 8434.3 dollars.\n",
      "This cost is 23616.0 dollars less than the average cost for smokers.\n",
      "\n",
      "The average insurance cost for smokers is 32050.2 dollars.\n",
      "This cost is 23616.0 dollars more than the average cost for non smokers.\n",
      "\n",
      "Conclusion: Being a smoker dramatically increases the insurance cost.\n"
     ]
    }
   ],
   "source": [
    "# Creating a list that combines smokers / non smokers status and average costs:\n",
    "smokers = list(zip(smoker, charges))\n",
    "\n",
    "# Creating a function to evaluate average costs according to smoking status:\n",
    "def aver_cost(list, smo_status):\n",
    "    num_smo_status = 0\n",
    "    tot_cost_smo_status = 0\n",
    "    for status, cost in list:\n",
    "        if status == smo_status:\n",
    "            num_smo_status += 1\n",
    "            tot_cost_smo_status += float(cost)\n",
    "    aver_cost = tot_cost_smo_status/num_smo_status\n",
    "    return num_smo_status, aver_cost\n",
    "\n",
    "yes_smokers = aver_cost(smokers, \"yes\")\n",
    "no_smokers = aver_cost(smokers, \"no\")\n",
    "difference = yes_smokers[1] - no_smokers[1]\n",
    "\n",
    "print(\"The average insurance cost for non smokers is \" + str(round(no_smokers[1],1)) + \" dollars.\\nThis cost is \" + str(round(difference,1)) + \" dollars less than the average cost for smokers.\\n\")\n",
    "print(\"The average insurance cost for smokers is \" + str(round(yes_smokers[1],1)) + \" dollars.\\nThis cost is \" + str(round(difference,1)) + \" dollars more than the average cost for non smokers.\\n\")\n",
    "\n",
    "print(\"Conclusion: Being a smoker dramatically increases the insurance cost.\")"
   ]
  },
  {
   "cell_type": "markdown",
   "metadata": {},
   "source": [
    "#### 6. Figure out what the average age is for someone who has at least one child in the dataset"
   ]
  },
  {
   "cell_type": "code",
   "execution_count": 40,
   "metadata": {
    "scrolled": false
   },
   "outputs": [
    {
     "name": "stdout",
     "output_type": "stream",
     "text": [
      "The average is for patients who have at least one child is 39.8.\n",
      "\n",
      "The average age for patients with 0 children is 38.4.\n",
      "The average age for patients with 1 child is 39.5.\n",
      "The average age for patients with 2 children is 39.4.\n",
      "The average age for patients with 3 children is 41.6.\n",
      "The average age for patients with 4 children is 39.0.\n",
      "The average age for patients with 5 children is 35.6.\n",
      "\n",
      "Conclusion:\n",
      "The average age of the patients does not change much for the different groups of patients according to the number of children that they have.\n"
     ]
    }
   ],
   "source": [
    "# Creating a list that combines age and number of children:\n",
    "age_and_children = list(zip(age, children))\n",
    "\n",
    "# Creating a function for getting the average age for patients from certain number of children:\n",
    "def aver_age(list, min_children):\n",
    "    tot_age_min_children = 0\n",
    "    num_min_children = 0\n",
    "    for age_ind, child_ind in list:\n",
    "        if int(child_ind) >= min_children:\n",
    "            num_min_children += 1\n",
    "            tot_age_min_children += float(age_ind)\n",
    "    aver_age = tot_age_min_children / num_min_children\n",
    "    return aver_age\n",
    "\n",
    "print(\"The average is for patients who have at least one child is \" + str(round(aver_age(age_and_children, 1),1)) + \".\\n\")\n",
    "\n",
    "# Creating a function for getting the average age for patients of certain number of children:\n",
    "def aver_age1(list, obj_child):\n",
    "    tot_age_children = 0\n",
    "    num_patients = 0\n",
    "    for age_ind, child_ind in list:\n",
    "        if int(child_ind) == obj_child:\n",
    "            num_patients += 1\n",
    "            tot_age_children += float(age_ind)\n",
    "    aver_age = tot_age_children / num_patients\n",
    "    if obj_child == 1:\n",
    "        print(\"The average age for patients with \" + str(obj_child) + \" child is \" + str(round(aver_age, 1)) + \".\")\n",
    "    else:\n",
    "        print(\"The average age for patients with \" + str(obj_child) + \" children is \" + str(round(aver_age, 1)) + \".\")\n",
    "\n",
    "aver_age1(age_and_children, 0)\n",
    "aver_age1(age_and_children, 1)\n",
    "aver_age1(age_and_children, 2)\n",
    "aver_age1(age_and_children, 3)\n",
    "aver_age1(age_and_children, 4)\n",
    "aver_age1(age_and_children, 5)\n",
    "\n",
    "print(\"\\nConclusion:\\nThe average age of the patients does not change much for the different groups of patients according to the number of children that they have.\")"
   ]
  },
  {
   "cell_type": "markdown",
   "metadata": {},
   "source": [
    "#### 7. Create a dictionary that contains all patient information"
   ]
  },
  {
   "cell_type": "code",
   "execution_count": 13,
   "metadata": {},
   "outputs": [],
   "source": [
    "# Creating a function to generate the dictionary:\n",
    "\n",
    "def create_dict(age, sex, bmi, children, smoker, region, charges):\n",
    "    dictionary = {}\n",
    "    dictionary[\"age\"] = [int(item) for item in age]\n",
    "    dictionary[\"sex\"] = sex\n",
    "    dictionary[\"bmi\"] = bmi\n",
    "    dictionary[\"children\"] = children\n",
    "    dictionary[\"smoker\"] = smoker\n",
    "    dictionary[\"regions\"] = region\n",
    "    dictionary[\"charges\"] = charges\n",
    "    return dictionary\n",
    "\n",
    "# Using function for creating the dictionary:\n",
    "patient_dictionary = create_dict(age, sex, bmi, children, smoker, region, charges)"
   ]
  }
 ],
 "metadata": {
  "kernelspec": {
   "display_name": "Python 3",
   "language": "python",
   "name": "python3"
  },
  "language_info": {
   "codemirror_mode": {
    "name": "ipython",
    "version": 3
   },
   "file_extension": ".py",
   "mimetype": "text/x-python",
   "name": "python",
   "nbconvert_exporter": "python",
   "pygments_lexer": "ipython3",
   "version": "3.9.1"
  }
 },
 "nbformat": 4,
 "nbformat_minor": 4
}
